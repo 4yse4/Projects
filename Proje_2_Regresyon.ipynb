{
 "cells": [
  {
   "cell_type": "markdown",
   "metadata": {},
   "source": [
    "# Bu araba kaç lakh ? \n",
    "## İçindekiler\n",
    "### 1.Giriş\n",
    "### 2.Veri Analizi\n",
    "### 3.Model Oluşturma ve Seçme\n",
    "### 4.Model Sonuçlarını Yorumlama\n",
    "### 5.Tahmin Yapma\n",
    "### 6.Varsayımların Sağlanması Kontrolü    \n",
    "### 7.Sonuç"
   ]
  },
  {
   "cell_type": "markdown",
   "metadata": {},
   "source": [
    "### 1.Giriş  \n",
    "Bu projemizde Hindistan'da kullanılmış otomobil piyasasına dair bilgiler içeren bir veri kümesi ile çalışacağız.Nihai amacımız oluşturacağımız model ile arabanın fiyatını tahmin edebilmek. Veri setimizde hedef değişken olarak seçtiğimiz **Price** birim olarak Hindiatan'ın yerel para birimi olan Lakh cinsinden.\n",
    "\n",
    "Verimizi tanımaya geçmeden ihtiyacımız olacak kütüphaneleri yüklüyoruz ve veri dosyamızı okuyoruz."
   ]
  },
  {
   "cell_type": "code",
   "execution_count": 1,
   "metadata": {},
   "outputs": [],
   "source": [
    "import pandas as pd\n",
    "import math\n",
    "import numpy as np\n",
    "import matplotlib.pyplot as plt\n",
    "import scipy.stats as sts\n",
    "import statsmodels.api as sm\n",
    "import warnings\n",
    "import seaborn as sns\n",
    "\n",
    "from sklearn import linear_model\n",
    "from sklearn import model_selection\n",
    "from sklearn.model_selection import cross_val_score, train_test_split\n",
    "from sklearn.linear_model import LinearRegression, RidgeCV, LassoCV, ElasticNetCV, Ridge, ElasticNet, Lasso, LassoLarsCV\n",
    "from sklearn.metrics import mean_squared_error, make_scorer, mean_absolute_error\n",
    "from statsmodels.tsa.stattools import acf\n",
    "from statsmodels.tools.eval_measures import mse, rmse\n",
    "from scipy.stats import jarque_bera, normaltest, bartlett, levene\n",
    "\n",
    "\n",
    "warnings.filterwarnings('ignore')\n",
    "%matplotlib inline\n",
    "pd.options.display.float_format = '{:.3f}'.format"
   ]
  },
  {
   "cell_type": "code",
   "execution_count": 2,
   "metadata": {},
   "outputs": [],
   "source": [
    "df=pd.read_csv('used_car_train.csv')"
   ]
  },
  {
   "cell_type": "markdown",
   "metadata": {},
   "source": [
    "### 2.Veri Analizi"
   ]
  },
  {
   "cell_type": "code",
   "execution_count": 3,
   "metadata": {
    "scrolled": true
   },
   "outputs": [
    {
     "data": {
      "text/html": [
       "<div>\n",
       "<style scoped>\n",
       "    .dataframe tbody tr th:only-of-type {\n",
       "        vertical-align: middle;\n",
       "    }\n",
       "\n",
       "    .dataframe tbody tr th {\n",
       "        vertical-align: top;\n",
       "    }\n",
       "\n",
       "    .dataframe thead th {\n",
       "        text-align: right;\n",
       "    }\n",
       "</style>\n",
       "<table border=\"1\" class=\"dataframe\">\n",
       "  <thead>\n",
       "    <tr style=\"text-align: right;\">\n",
       "      <th></th>\n",
       "      <th>Unnamed: 0</th>\n",
       "      <th>Name</th>\n",
       "      <th>Location</th>\n",
       "      <th>Year</th>\n",
       "      <th>Kilometers_Driven</th>\n",
       "      <th>Fuel_Type</th>\n",
       "      <th>Transmission</th>\n",
       "      <th>Owner_Type</th>\n",
       "      <th>Mileage</th>\n",
       "      <th>Engine</th>\n",
       "      <th>Power</th>\n",
       "      <th>Seats</th>\n",
       "      <th>New_Price</th>\n",
       "      <th>Price</th>\n",
       "    </tr>\n",
       "  </thead>\n",
       "  <tbody>\n",
       "    <tr>\n",
       "      <th>0</th>\n",
       "      <td>0</td>\n",
       "      <td>Maruti Wagon R LXI CNG</td>\n",
       "      <td>Mumbai</td>\n",
       "      <td>2010</td>\n",
       "      <td>72000</td>\n",
       "      <td>CNG</td>\n",
       "      <td>Manual</td>\n",
       "      <td>First</td>\n",
       "      <td>26.6 km/kg</td>\n",
       "      <td>998 CC</td>\n",
       "      <td>58.16 bhp</td>\n",
       "      <td>5.000</td>\n",
       "      <td>NaN</td>\n",
       "      <td>1.750</td>\n",
       "    </tr>\n",
       "    <tr>\n",
       "      <th>1</th>\n",
       "      <td>1</td>\n",
       "      <td>Hyundai Creta 1.6 CRDi SX Option</td>\n",
       "      <td>Pune</td>\n",
       "      <td>2015</td>\n",
       "      <td>41000</td>\n",
       "      <td>Diesel</td>\n",
       "      <td>Manual</td>\n",
       "      <td>First</td>\n",
       "      <td>19.67 kmpl</td>\n",
       "      <td>1582 CC</td>\n",
       "      <td>126.2 bhp</td>\n",
       "      <td>5.000</td>\n",
       "      <td>NaN</td>\n",
       "      <td>12.500</td>\n",
       "    </tr>\n",
       "    <tr>\n",
       "      <th>2</th>\n",
       "      <td>2</td>\n",
       "      <td>Honda Jazz V</td>\n",
       "      <td>Chennai</td>\n",
       "      <td>2011</td>\n",
       "      <td>46000</td>\n",
       "      <td>Petrol</td>\n",
       "      <td>Manual</td>\n",
       "      <td>First</td>\n",
       "      <td>18.2 kmpl</td>\n",
       "      <td>1199 CC</td>\n",
       "      <td>88.7 bhp</td>\n",
       "      <td>5.000</td>\n",
       "      <td>8.61 Lakh</td>\n",
       "      <td>4.500</td>\n",
       "    </tr>\n",
       "    <tr>\n",
       "      <th>3</th>\n",
       "      <td>3</td>\n",
       "      <td>Maruti Ertiga VDI</td>\n",
       "      <td>Chennai</td>\n",
       "      <td>2012</td>\n",
       "      <td>87000</td>\n",
       "      <td>Diesel</td>\n",
       "      <td>Manual</td>\n",
       "      <td>First</td>\n",
       "      <td>20.77 kmpl</td>\n",
       "      <td>1248 CC</td>\n",
       "      <td>88.76 bhp</td>\n",
       "      <td>7.000</td>\n",
       "      <td>NaN</td>\n",
       "      <td>6.000</td>\n",
       "    </tr>\n",
       "    <tr>\n",
       "      <th>4</th>\n",
       "      <td>4</td>\n",
       "      <td>Audi A4 New 2.0 TDI Multitronic</td>\n",
       "      <td>Coimbatore</td>\n",
       "      <td>2013</td>\n",
       "      <td>40670</td>\n",
       "      <td>Diesel</td>\n",
       "      <td>Automatic</td>\n",
       "      <td>Second</td>\n",
       "      <td>15.2 kmpl</td>\n",
       "      <td>1968 CC</td>\n",
       "      <td>140.8 bhp</td>\n",
       "      <td>5.000</td>\n",
       "      <td>NaN</td>\n",
       "      <td>17.740</td>\n",
       "    </tr>\n",
       "  </tbody>\n",
       "</table>\n",
       "</div>"
      ],
      "text/plain": [
       "   Unnamed: 0                              Name    Location  Year  \\\n",
       "0           0            Maruti Wagon R LXI CNG      Mumbai  2010   \n",
       "1           1  Hyundai Creta 1.6 CRDi SX Option        Pune  2015   \n",
       "2           2                      Honda Jazz V     Chennai  2011   \n",
       "3           3                 Maruti Ertiga VDI     Chennai  2012   \n",
       "4           4   Audi A4 New 2.0 TDI Multitronic  Coimbatore  2013   \n",
       "\n",
       "   Kilometers_Driven Fuel_Type Transmission Owner_Type     Mileage   Engine  \\\n",
       "0              72000       CNG       Manual      First  26.6 km/kg   998 CC   \n",
       "1              41000    Diesel       Manual      First  19.67 kmpl  1582 CC   \n",
       "2              46000    Petrol       Manual      First   18.2 kmpl  1199 CC   \n",
       "3              87000    Diesel       Manual      First  20.77 kmpl  1248 CC   \n",
       "4              40670    Diesel    Automatic     Second   15.2 kmpl  1968 CC   \n",
       "\n",
       "       Power  Seats  New_Price  Price  \n",
       "0  58.16 bhp  5.000        NaN  1.750  \n",
       "1  126.2 bhp  5.000        NaN 12.500  \n",
       "2   88.7 bhp  5.000  8.61 Lakh  4.500  \n",
       "3  88.76 bhp  7.000        NaN  6.000  \n",
       "4  140.8 bhp  5.000        NaN 17.740  "
      ]
     },
     "execution_count": 3,
     "metadata": {},
     "output_type": "execute_result"
    }
   ],
   "source": [
    "df.head()"
   ]
  },
  {
   "cell_type": "code",
   "execution_count": 4,
   "metadata": {
    "scrolled": false
   },
   "outputs": [
    {
     "name": "stdout",
     "output_type": "stream",
     "text": [
      "<class 'pandas.core.frame.DataFrame'>\n",
      "RangeIndex: 6019 entries, 0 to 6018\n",
      "Data columns (total 14 columns):\n",
      "Unnamed: 0           6019 non-null int64\n",
      "Name                 6019 non-null object\n",
      "Location             6019 non-null object\n",
      "Year                 6019 non-null int64\n",
      "Kilometers_Driven    6019 non-null int64\n",
      "Fuel_Type            6019 non-null object\n",
      "Transmission         6019 non-null object\n",
      "Owner_Type           6019 non-null object\n",
      "Mileage              6017 non-null object\n",
      "Engine               5983 non-null object\n",
      "Power                5983 non-null object\n",
      "Seats                5977 non-null float64\n",
      "New_Price            824 non-null object\n",
      "Price                6019 non-null float64\n",
      "dtypes: float64(2), int64(3), object(9)\n",
      "memory usage: 658.4+ KB\n"
     ]
    }
   ],
   "source": [
    "df.info()"
   ]
  },
  {
   "cell_type": "code",
   "execution_count": 5,
   "metadata": {},
   "outputs": [
    {
     "name": "stdout",
     "output_type": "stream",
     "text": [
      "(6019, 14)\n",
      "(6019, 14)\n"
     ]
    }
   ],
   "source": [
    "#veri kümesinde tekrarlayan satır varsa siliyoruz.\n",
    "print(df.shape)\n",
    "df = df.drop_duplicates(keep='first')\n",
    "print(df.shape)"
   ]
  },
  {
   "cell_type": "code",
   "execution_count": 6,
   "metadata": {
    "scrolled": true
   },
   "outputs": [
    {
     "data": {
      "text/plain": [
       "Unnamed: 0          0.000\n",
       "Name                0.000\n",
       "Location            0.000\n",
       "Year                0.000\n",
       "Kilometers_Driven   0.000\n",
       "Fuel_Type           0.000\n",
       "Transmission        0.000\n",
       "Owner_Type          0.000\n",
       "Mileage             0.000\n",
       "Engine              0.006\n",
       "Power               0.006\n",
       "Seats               0.007\n",
       "New_Price           0.863\n",
       "Price               0.000\n",
       "dtype: float64"
      ]
     },
     "execution_count": 6,
     "metadata": {},
     "output_type": "execute_result"
    }
   ],
   "source": [
    "#ne kadarı boş bakalım\n",
    "df.isnull().sum()/df.shape[0]"
   ]
  },
  {
   "cell_type": "code",
   "execution_count": 7,
   "metadata": {},
   "outputs": [],
   "source": [
    "#biri ekstra index diğerleri de kullanmayacağımız değişkenler.\n",
    "del_columns=[\"Unnamed: 0\",\"Location\",\"New_Price\",'Mileage'] \n",
    "df=df.drop(del_columns,axis=1)"
   ]
  },
  {
   "cell_type": "code",
   "execution_count": 8,
   "metadata": {},
   "outputs": [],
   "source": [
    "#verisetinde yeteri fazlalıkta değer olduğunu düşündüğümden eksik veri olanları direkt sildim.\n",
    "df.dropna(inplace=True)"
   ]
  },
  {
   "cell_type": "code",
   "execution_count": 9,
   "metadata": {},
   "outputs": [
    {
     "name": "stdout",
     "output_type": "stream",
     "text": [
      "<class 'pandas.core.frame.DataFrame'>\n",
      "Int64Index: 5977 entries, 0 to 6018\n",
      "Data columns (total 10 columns):\n",
      "Name                 5977 non-null object\n",
      "Year                 5977 non-null int64\n",
      "Kilometers_Driven    5977 non-null int64\n",
      "Fuel_Type            5977 non-null object\n",
      "Transmission         5977 non-null object\n",
      "Owner_Type           5977 non-null object\n",
      "Engine               5977 non-null object\n",
      "Power                5977 non-null object\n",
      "Seats                5977 non-null float64\n",
      "Price                5977 non-null float64\n",
      "dtypes: float64(2), int64(2), object(6)\n",
      "memory usage: 513.6+ KB\n"
     ]
    }
   ],
   "source": [
    "df.info()"
   ]
  },
  {
   "cell_type": "code",
   "execution_count": 10,
   "metadata": {
    "scrolled": true
   },
   "outputs": [],
   "source": [
    "#bu kolonlardaki birim bilgilerini boslukla degistirip türünü float a çeviriyoruz.\n",
    "df['Engine'] = df['Engine'].apply(lambda x: x.replace('CC', '') if 'CC' in str(x) else x)\n",
    "df['Engine'] = df['Engine'].apply(lambda x: float(x))\n",
    "df['Power'] = df['Power'].apply(lambda x: x.replace('null bhp','0 bhp') if 'null bhp' in str(x) else x)\n",
    "df['Power'] = df['Power'].apply(lambda x: x.replace('bhp', '') if 'bhp' in str(x) else x)\n",
    "df['Power'] = df['Power'].apply(lambda x: float(x))"
   ]
  },
  {
   "cell_type": "code",
   "execution_count": 11,
   "metadata": {
    "scrolled": false
   },
   "outputs": [],
   "source": [
    "#power kolonunda 103 tanesi 0'a eşit yeteri kadar veri olduğundan silmeyi tercih ediyoruz.\n",
    "ind_drop=df.loc[df['Power']==0].index\n",
    "df.drop(ind_drop,inplace=True)"
   ]
  },
  {
   "cell_type": "code",
   "execution_count": 12,
   "metadata": {
    "scrolled": true
   },
   "outputs": [
    {
     "name": "stdout",
     "output_type": "stream",
     "text": [
      "<class 'pandas.core.frame.DataFrame'>\n",
      "Int64Index: 5874 entries, 0 to 6018\n",
      "Data columns (total 10 columns):\n",
      "Name                 5874 non-null object\n",
      "Year                 5874 non-null int64\n",
      "Kilometers_Driven    5874 non-null int64\n",
      "Fuel_Type            5874 non-null object\n",
      "Transmission         5874 non-null object\n",
      "Owner_Type           5874 non-null object\n",
      "Engine               5874 non-null float64\n",
      "Power                5874 non-null float64\n",
      "Seats                5874 non-null float64\n",
      "Price                5874 non-null float64\n",
      "dtypes: float64(4), int64(2), object(4)\n",
      "memory usage: 504.8+ KB\n"
     ]
    }
   ],
   "source": [
    "df.info()"
   ]
  },
  {
   "cell_type": "code",
   "execution_count": 13,
   "metadata": {},
   "outputs": [],
   "source": [
    "#Brand diye yeni değişken oluşturduk, Name değişkeninin ilk kelimesi alınarak markalar atandı.\n",
    "df['Brand']= df.Name.str.split().str.get(0) "
   ]
  },
  {
   "cell_type": "code",
   "execution_count": 14,
   "metadata": {},
   "outputs": [
    {
     "data": {
      "text/plain": [
       "array(['Maruti', 'Hyundai', 'Honda', 'Audi', 'Nissan', 'Toyota',\n",
       "       'Volkswagen', 'Tata', 'Land', 'Mitsubishi', 'Renault',\n",
       "       'Mercedes-Benz', 'BMW', 'Mahindra', 'Ford', 'Porsche', 'Datsun',\n",
       "       'Jaguar', 'Volvo', 'Chevrolet', 'Skoda', 'Mini', 'Fiat', 'Jeep',\n",
       "       'Ambassador', 'Isuzu', 'ISUZU', 'Force', 'Bentley', 'Lamborghini'],\n",
       "      dtype=object)"
      ]
     },
     "execution_count": 14,
     "metadata": {},
     "output_type": "execute_result"
    }
   ],
   "source": [
    "df[\"Brand\"].unique() #30 farklı marka var. "
   ]
  },
  {
   "cell_type": "code",
   "execution_count": 15,
   "metadata": {
    "scrolled": true
   },
   "outputs": [],
   "source": [
    "#Sürekli değişkenlerin temel istatistiklerine bakıyoruz.\n",
    "#df.describe().T"
   ]
  },
  {
   "cell_type": "code",
   "execution_count": 16,
   "metadata": {},
   "outputs": [
    {
     "data": {
      "image/png": "[encoded data removed]",
      "text/plain": [
       "<Figure size 1080x360 with 4 Axes>"
      ]
     },
     "metadata": {
      "needs_background": "light"
     },
     "output_type": "display_data"
    }
   ],
   "source": [
    "columns=['Kilometers_Driven','Engine','Power','Price']\n",
    "plt.figure(figsize=(15,5))\n",
    "for i,j in zip(columns, range(1,5)):\n",
    "        plt.subplot(2,2,j)\n",
    "        plt.hist(df[i])\n",
    "        plt.title(i)\n",
    "plt.tight_layout()\n",
    "plt.show()"
   ]
  },
  {
   "cell_type": "markdown",
   "metadata": {},
   "source": [
    "Dağılım grafiklerinde Kilometers_Driven da bir sorun var gibi tüm arabaların aynı miktarda yol almış olması makul değil. Aykırı bir değer dağılımı bu şekilde baskılıyor olabilir.Bunu aklımızda tutalım.Kutu grafikler aracılığıyla aykırı değer kontrolü yapalım.Dağılım grafikleri diğerlerinde de sağa çarpık, hepsinde bu sorunun olabileceğine işaret ediyor."
   ]
  },
  {
   "cell_type": "code",
   "execution_count": 17,
   "metadata": {
    "scrolled": true
   },
   "outputs": [
    {
     "data": {
      "image/png": "[encoded data removed]",
      "text/plain": [
       "<Figure size 1080x360 with 4 Axes>"
      ]
     },
     "metadata": {
      "needs_background": "light"
     },
     "output_type": "display_data"
    }
   ],
   "source": [
    "#kutu grafiklerle aykırı değer kontrolü yapıyoruz.\n",
    "#columns=['Kilometers_Driven','Engine','Power','Price']\n",
    "plt.figure(figsize=(15,5))\n",
    "for i,j in zip(columns, range(1,5)):\n",
    "        plt.subplot(2,2,j)\n",
    "        sns.boxplot(df[i])\n",
    "        plt.title(i)\n",
    "plt.tight_layout()\n",
    "plt.show()"
   ]
  },
  {
   "cell_type": "markdown",
   "metadata": {},
   "source": [
    "Dediğimiz gibi tüm değişkenlerde aykırı değer sorunu var. Ama Kilometers_Driven için tek bir aykırı değer diğerlerini\n",
    "baskılamış bunun ne olduğuna bakalım. Aykırı değerlerle baş edebilmek adına ilerleyen kısımlarda değişkenlerimizin\n",
    "log dönüşümlü hallerini kullanacağız."
   ]
  },
  {
   "cell_type": "code",
   "execution_count": 18,
   "metadata": {},
   "outputs": [
    {
     "data": {
      "text/html": [
       "<div>\n",
       "<style scoped>\n",
       "    .dataframe tbody tr th:only-of-type {\n",
       "        vertical-align: middle;\n",
       "    }\n",
       "\n",
       "    .dataframe tbody tr th {\n",
       "        vertical-align: top;\n",
       "    }\n",
       "\n",
       "    .dataframe thead th {\n",
       "        text-align: right;\n",
       "    }\n",
       "</style>\n",
       "<table border=\"1\" class=\"dataframe\">\n",
       "  <thead>\n",
       "    <tr style=\"text-align: right;\">\n",
       "      <th></th>\n",
       "      <th>Name</th>\n",
       "      <th>Year</th>\n",
       "      <th>Kilometers_Driven</th>\n",
       "      <th>Fuel_Type</th>\n",
       "      <th>Transmission</th>\n",
       "      <th>Owner_Type</th>\n",
       "      <th>Engine</th>\n",
       "      <th>Power</th>\n",
       "      <th>Seats</th>\n",
       "      <th>Price</th>\n",
       "      <th>Brand</th>\n",
       "    </tr>\n",
       "  </thead>\n",
       "  <tbody>\n",
       "    <tr>\n",
       "      <th>2328</th>\n",
       "      <td>BMW X5 xDrive 30d M Sport</td>\n",
       "      <td>2017</td>\n",
       "      <td>6500000</td>\n",
       "      <td>Diesel</td>\n",
       "      <td>Automatic</td>\n",
       "      <td>First</td>\n",
       "      <td>2993.000</td>\n",
       "      <td>258.000</td>\n",
       "      <td>5.000</td>\n",
       "      <td>65.000</td>\n",
       "      <td>BMW</td>\n",
       "    </tr>\n",
       "    <tr>\n",
       "      <th>340</th>\n",
       "      <td>Skoda Octavia Ambition Plus 2.0 TDI AT</td>\n",
       "      <td>2013</td>\n",
       "      <td>775000</td>\n",
       "      <td>Diesel</td>\n",
       "      <td>Automatic</td>\n",
       "      <td>First</td>\n",
       "      <td>1968.000</td>\n",
       "      <td>141.000</td>\n",
       "      <td>5.000</td>\n",
       "      <td>7.500</td>\n",
       "      <td>Skoda</td>\n",
       "    </tr>\n",
       "    <tr>\n",
       "      <th>1860</th>\n",
       "      <td>Volkswagen Vento Diesel Highline</td>\n",
       "      <td>2013</td>\n",
       "      <td>720000</td>\n",
       "      <td>Diesel</td>\n",
       "      <td>Manual</td>\n",
       "      <td>First</td>\n",
       "      <td>1598.000</td>\n",
       "      <td>103.600</td>\n",
       "      <td>5.000</td>\n",
       "      <td>5.900</td>\n",
       "      <td>Volkswagen</td>\n",
       "    </tr>\n",
       "    <tr>\n",
       "      <th>358</th>\n",
       "      <td>Hyundai i10 Magna 1.2</td>\n",
       "      <td>2009</td>\n",
       "      <td>620000</td>\n",
       "      <td>Petrol</td>\n",
       "      <td>Manual</td>\n",
       "      <td>First</td>\n",
       "      <td>1197.000</td>\n",
       "      <td>78.900</td>\n",
       "      <td>5.000</td>\n",
       "      <td>2.700</td>\n",
       "      <td>Hyundai</td>\n",
       "    </tr>\n",
       "    <tr>\n",
       "      <th>3092</th>\n",
       "      <td>Honda City i VTEC SV</td>\n",
       "      <td>2015</td>\n",
       "      <td>480000</td>\n",
       "      <td>Petrol</td>\n",
       "      <td>Manual</td>\n",
       "      <td>First</td>\n",
       "      <td>1497.000</td>\n",
       "      <td>117.300</td>\n",
       "      <td>5.000</td>\n",
       "      <td>5.000</td>\n",
       "      <td>Honda</td>\n",
       "    </tr>\n",
       "    <tr>\n",
       "      <th>2823</th>\n",
       "      <td>Volkswagen Jetta 2013-2015 2.0L TDI Highline AT</td>\n",
       "      <td>2015</td>\n",
       "      <td>480000</td>\n",
       "      <td>Diesel</td>\n",
       "      <td>Automatic</td>\n",
       "      <td>First</td>\n",
       "      <td>1968.000</td>\n",
       "      <td>138.030</td>\n",
       "      <td>5.000</td>\n",
       "      <td>13.000</td>\n",
       "      <td>Volkswagen</td>\n",
       "    </tr>\n",
       "    <tr>\n",
       "      <th>4491</th>\n",
       "      <td>Hyundai i20 Magna Optional 1.2</td>\n",
       "      <td>2013</td>\n",
       "      <td>445000</td>\n",
       "      <td>Petrol</td>\n",
       "      <td>Manual</td>\n",
       "      <td>First</td>\n",
       "      <td>1197.000</td>\n",
       "      <td>82.900</td>\n",
       "      <td>5.000</td>\n",
       "      <td>4.450</td>\n",
       "      <td>Hyundai</td>\n",
       "    </tr>\n",
       "    <tr>\n",
       "      <th>3649</th>\n",
       "      <td>Tata Indigo LS</td>\n",
       "      <td>2008</td>\n",
       "      <td>300000</td>\n",
       "      <td>Diesel</td>\n",
       "      <td>Manual</td>\n",
       "      <td>First</td>\n",
       "      <td>1405.000</td>\n",
       "      <td>70.000</td>\n",
       "      <td>5.000</td>\n",
       "      <td>1.000</td>\n",
       "      <td>Tata</td>\n",
       "    </tr>\n",
       "    <tr>\n",
       "      <th>1528</th>\n",
       "      <td>Toyota Innova 2.5 G (Diesel) 8 Seater BS IV</td>\n",
       "      <td>2005</td>\n",
       "      <td>299322</td>\n",
       "      <td>Diesel</td>\n",
       "      <td>Manual</td>\n",
       "      <td>First</td>\n",
       "      <td>2494.000</td>\n",
       "      <td>102.000</td>\n",
       "      <td>8.000</td>\n",
       "      <td>4.000</td>\n",
       "      <td>Toyota</td>\n",
       "    </tr>\n",
       "    <tr>\n",
       "      <th>1975</th>\n",
       "      <td>Skoda Superb 1.8 TSI MT</td>\n",
       "      <td>2012</td>\n",
       "      <td>282000</td>\n",
       "      <td>Petrol</td>\n",
       "      <td>Manual</td>\n",
       "      <td>First</td>\n",
       "      <td>1798.000</td>\n",
       "      <td>160.000</td>\n",
       "      <td>5.000</td>\n",
       "      <td>3.300</td>\n",
       "      <td>Skoda</td>\n",
       "    </tr>\n",
       "  </tbody>\n",
       "</table>\n",
       "</div>"
      ],
      "text/plain": [
       "                                                 Name  Year  \\\n",
       "2328                        BMW X5 xDrive 30d M Sport  2017   \n",
       "340            Skoda Octavia Ambition Plus 2.0 TDI AT  2013   \n",
       "1860                 Volkswagen Vento Diesel Highline  2013   \n",
       "358                             Hyundai i10 Magna 1.2  2009   \n",
       "3092                             Honda City i VTEC SV  2015   \n",
       "2823  Volkswagen Jetta 2013-2015 2.0L TDI Highline AT  2015   \n",
       "4491                   Hyundai i20 Magna Optional 1.2  2013   \n",
       "3649                                   Tata Indigo LS  2008   \n",
       "1528      Toyota Innova 2.5 G (Diesel) 8 Seater BS IV  2005   \n",
       "1975                          Skoda Superb 1.8 TSI MT  2012   \n",
       "\n",
       "      Kilometers_Driven Fuel_Type Transmission Owner_Type   Engine   Power  \\\n",
       "2328            6500000    Diesel    Automatic      First 2993.000 258.000   \n",
       "340              775000    Diesel    Automatic      First 1968.000 141.000   \n",
       "1860             720000    Diesel       Manual      First 1598.000 103.600   \n",
       "358              620000    Petrol       Manual      First 1197.000  78.900   \n",
       "3092             480000    Petrol       Manual      First 1497.000 117.300   \n",
       "2823             480000    Diesel    Automatic      First 1968.000 138.030   \n",
       "4491             445000    Petrol       Manual      First 1197.000  82.900   \n",
       "3649             300000    Diesel       Manual      First 1405.000  70.000   \n",
       "1528             299322    Diesel       Manual      First 2494.000 102.000   \n",
       "1975             282000    Petrol       Manual      First 1798.000 160.000   \n",
       "\n",
       "      Seats  Price       Brand  \n",
       "2328  5.000 65.000         BMW  \n",
       "340   5.000  7.500       Skoda  \n",
       "1860  5.000  5.900  Volkswagen  \n",
       "358   5.000  2.700     Hyundai  \n",
       "3092  5.000  5.000       Honda  \n",
       "2823  5.000 13.000  Volkswagen  \n",
       "4491  5.000  4.450     Hyundai  \n",
       "3649  5.000  1.000        Tata  \n",
       "1528  8.000  4.000      Toyota  \n",
       "1975  5.000  3.300       Skoda  "
      ]
     },
     "execution_count": 18,
     "metadata": {},
     "output_type": "execute_result"
    }
   ],
   "source": [
    "df.sort_values(by='Kilometers_Driven',ascending=False).head(10)\n",
    "#box plotda bir tane bariz aykırı değer vardı onun kontrolü.\n",
    "#aslında bir sıfır fazla yazılmış.Düzeltiledebilir silinedebilir."
   ]
  },
  {
   "cell_type": "markdown",
   "metadata": {},
   "source": [
    "**Kilometers_Driven** değişkenin de bir satırın değeri girilirken bir sıfır fazla koydukları için değer aşırı yükselmiş bu da üstteki sorunlara neden olmuş. Bu değeri sileceğiz."
   ]
  },
  {
   "cell_type": "code",
   "execution_count": 19,
   "metadata": {},
   "outputs": [],
   "source": [
    "#df.sort_values(by='Engine').head(15)"
   ]
  },
  {
   "cell_type": "code",
   "execution_count": 20,
   "metadata": {},
   "outputs": [],
   "source": [
    "#df.sort_values(by='Price',ascending=False).head(10)"
   ]
  },
  {
   "cell_type": "code",
   "execution_count": 21,
   "metadata": {},
   "outputs": [
    {
     "data": {
      "text/plain": [
       "Maruti           1175\n",
       "Hyundai          1058\n",
       "Honda             600\n",
       "Toyota            395\n",
       "Mercedes-Benz     316\n",
       "Volkswagen        314\n",
       "Ford              294\n",
       "Mahindra          269\n",
       "BMW               262\n",
       "Audi              235\n",
       "Tata              183\n",
       "Skoda             172\n",
       "Renault           145\n",
       "Chevrolet         120\n",
       "Nissan             89\n",
       "Land               57\n",
       "Jaguar             40\n",
       "Mitsubishi         27\n",
       "Mini               26\n",
       "Fiat               23\n",
       "Volvo              21\n",
       "Porsche            16\n",
       "Jeep               15\n",
       "Datsun             13\n",
       "Force               3\n",
       "ISUZU               2\n",
       "Bentley             1\n",
       "Lamborghini         1\n",
       "Isuzu               1\n",
       "Ambassador          1\n",
       "Name: Brand, dtype: int64"
      ]
     },
     "execution_count": 21,
     "metadata": {},
     "output_type": "execute_result"
    }
   ],
   "source": [
    "df.Brand.value_counts() #sayısı çok az olanları çıkarmak bir tercih olabilir.\n",
    "#6000 e yakın veri var 20 taneden az olanları sileceğim.aslında 100 den az olarak da denenenbilir. çünkü totalde %5 civarı eder."
   ]
  },
  {
   "cell_type": "code",
   "execution_count": 22,
   "metadata": {},
   "outputs": [
    {
     "data": {
      "text/plain": [
       "First             4841\n",
       "Second             925\n",
       "Third              101\n",
       "Fourth & Above       7\n",
       "Name: Owner_Type, dtype: int64"
      ]
     },
     "execution_count": 22,
     "metadata": {},
     "output_type": "execute_result"
    }
   ],
   "source": [
    "df.Owner_Type.value_counts()"
   ]
  },
  {
   "cell_type": "code",
   "execution_count": 23,
   "metadata": {},
   "outputs": [
    {
     "data": {
      "text/plain": [
       "5.000     4921\n",
       "7.000      672\n",
       "8.000      133\n",
       "4.000       99\n",
       "6.000       29\n",
       "2.000       13\n",
       "10.000       4\n",
       "9.000        3\n",
       "Name: Seats, dtype: int64"
      ]
     },
     "execution_count": 23,
     "metadata": {},
     "output_type": "execute_result"
    }
   ],
   "source": [
    "df.Seats.value_counts()"
   ]
  },
  {
   "cell_type": "markdown",
   "metadata": {},
   "source": [
    "Üstte  yaptığımız bazı incelemelerde tespit ettiğimiz; veri kümesinde çok az yüzdesi olan ya da aykırı\n",
    "değer olmaya aday bazı verileri silerek devam ediyoruz. Sİlincek verileri filtreleyip indeks değerlerini alıp ,siliyoruz."
   ]
  },
  {
   "cell_type": "code",
   "execution_count": 24,
   "metadata": {},
   "outputs": [],
   "source": [
    "#Burası silinecekler kosesi loc ile indexleri alıp sonra siliyorum.\n",
    "#6000 e yakın veri olunca 5-10 tane bulunan değerlerin bir açıdan istisna olduğunu ve bunlardan bazılarının aykırı değerler de olduğunu\n",
    "#görünce silip temizlemenin daha doğru bir analiz yapamaya yol açacağını düşündüm.\n",
    "seats_index=df.loc[(df[\"Seats\"]==2.00)|(df[\"Seats\"]==10.00) |(df[\"Seats\"]==9.00)].index\n",
    "df.drop(seats_index,inplace=True)\n",
    "model_index=df.loc[(df['Brand']==\"Porsche\")|(df['Brand']==\"Jeep\")|(df['Brand']==\"Datsun\")|(df['Brand']==\"Force\")|(df['Brand']==\"ISUZU\")|(df['Brand']==\"Ambassador\")|(df['Brand']==\"Bentley\")|(df['Brand']==\"Isuzu\")|(df['Brand']==\"Lamborghini\")].index\n",
    "df.drop(model_index,inplace=True)\n",
    "price_index=df.loc[df[\"Price\"] >=80.000].index\n",
    "df.drop(price_index,inplace=True)\n",
    "owner_index=df.loc[df[\"Owner_Type\"] =='Fourth & Above'].index\n",
    "df.drop(owner_index,inplace=True)\n",
    "max_km_index=df.loc[df[\"Kilometers_Driven\"]==df[\"Kilometers_Driven\"].max()].index\n",
    "df.drop(max_km_index,inplace=True)\n",
    "km_index=df.loc[df[\"Kilometers_Driven\"]<1000].index\n",
    "df.drop(km_index,inplace=True)"
   ]
  },
  {
   "cell_type": "markdown",
   "metadata": {},
   "source": [
    "Silinen değerlerden sonra veri kümemizin son durumuna bakalım."
   ]
  },
  {
   "cell_type": "code",
   "execution_count": 25,
   "metadata": {
    "scrolled": true
   },
   "outputs": [
    {
     "name": "stdout",
     "output_type": "stream",
     "text": [
      "<class 'pandas.core.frame.DataFrame'>\n",
      "Int64Index: 5788 entries, 0 to 6018\n",
      "Data columns (total 11 columns):\n",
      "Name                 5788 non-null object\n",
      "Year                 5788 non-null int64\n",
      "Kilometers_Driven    5788 non-null int64\n",
      "Fuel_Type            5788 non-null object\n",
      "Transmission         5788 non-null object\n",
      "Owner_Type           5788 non-null object\n",
      "Engine               5788 non-null float64\n",
      "Power                5788 non-null float64\n",
      "Seats                5788 non-null float64\n",
      "Price                5788 non-null float64\n",
      "Brand                5788 non-null object\n",
      "dtypes: float64(4), int64(2), object(5)\n",
      "memory usage: 542.6+ KB\n"
     ]
    }
   ],
   "source": [
    "df.info()"
   ]
  },
  {
   "cell_type": "markdown",
   "metadata": {},
   "source": [
    "Şimdi de çubuk garfikler aracılığıyla kategorik değişkenlerimiz ve hedef değişkenimiz arasındaki ilişkiye bakalım."
   ]
  },
  {
   "cell_type": "code",
   "execution_count": 26,
   "metadata": {},
   "outputs": [],
   "source": [
    "#kategoriklerle hedef arasındaki ilişkiye bakalım grafiklerle."
   ]
  },
  {
   "cell_type": "code",
   "execution_count": 27,
   "metadata": {},
   "outputs": [
    {
     "data": {
      "image/png": "[encoded data removed]",
      "text/plain": [
       "<Figure size 1440x720 with 4 Axes>"
      ]
     },
     "metadata": {
      "needs_background": "light"
     },
     "output_type": "display_data"
    }
   ],
   "source": [
    "columns=['Seats','Fuel_Type','Transmission','Owner_Type']\n",
    "title_font = {'family': 'arial', 'color': 'black','weight': 'bold','size': 18 }\n",
    "\n",
    "plt.figure(figsize=(20,10))\n",
    "for i,j in zip(columns, range(1,5)):\n",
    "        plt.subplot(2,2,j)\n",
    "        sns.barplot(df[i],df['Price'])\n",
    "        plt.title(i+' '+'&'+' ''Price',fontdict = title_font)\n",
    "plt.tight_layout()\n",
    "plt.show()\n"
   ]
  },
  {
   "cell_type": "markdown",
   "metadata": {},
   "source": [
    "Grafiklerin hepsinde değerler farklılaştıkça az ya da çok bağımlı değişkenin değerinde de bir değişme görülüyor. Tabii ki bu değişimlerin istatistiksel olarak anlamlı olup olmadıklarını testler aracılığıyla kontrol etmeliyiz. İlerleyen aşamada model seçimine tüm değişkenleri katarak başlayıp,katsayısı anlamsız olanları çıkararak devam edeceğimiz için testleri yapmadan sonraki kısma geçerek yorumlamayı oraya bırakıyoruz. "
   ]
  },
  {
   "cell_type": "markdown",
   "metadata": {},
   "source": [
    "Veri analizimize sürekli değişkenlerimizin log dönüşümlerini yapıp ilk halleriyle karşılaştırarark devam ediyoruz."
   ]
  },
  {
   "cell_type": "code",
   "execution_count": 28,
   "metadata": {},
   "outputs": [],
   "source": [
    "#seats hariç sürekli değişkenlerin logunu alıp yeni kolonlara atadım.\n",
    "df['log_Price']=np.log(df[\"Price\"])\n",
    "df['log_Kilometers_Driven']=np.log(df[\"Kilometers_Driven\"])\n",
    "df['log_Engine']=np.log(df[\"Engine\"])\n",
    "df['log_Power']=np.log(df[\"Power\"])"
   ]
  },
  {
   "cell_type": "code",
   "execution_count": 29,
   "metadata": {},
   "outputs": [
    {
     "data": {
      "image/png": "[encoded data removed]",
      "text/plain": [
       "<Figure size 1080x504 with 8 Axes>"
      ]
     },
     "metadata": {
      "needs_background": "light"
     },
     "output_type": "display_data"
    }
   ],
   "source": [
    "#log dönüşümleri yaptıktan sonra dağılımlarına bakalım.\n",
    "columns=['Kilometers_Driven','Engine','Power','Price','log_Kilometers_Driven','log_Engine','log_Power','log_Price']\n",
    "plt.figure(figsize=(15,7))\n",
    "for i,j in zip(columns, range(1,9)):\n",
    "        plt.subplot(4,2,j)\n",
    "        plt.hist(df[i])\n",
    "        plt.title(i)\n",
    "plt.tight_layout()\n",
    "plt.show()"
   ]
  },
  {
   "cell_type": "code",
   "execution_count": 30,
   "metadata": {},
   "outputs": [
    {
     "data": {
      "image/png": "[encoded data removed]",
      "text/plain": [
       "<Figure size 1080x504 with 8 Axes>"
      ]
     },
     "metadata": {
      "needs_background": "light"
     },
     "output_type": "display_data"
    }
   ],
   "source": [
    "#hem bazı verileri sildim icinde aykırı olanlar da vardı.hem de log dönüşümü yaptık kıyaslı son hallerine bakalım.\n",
    "#columns=['Kilometers_Driven','Engine','Power','Price','log_Kilometers_Driven','log_Engine','log_Power','log_Price']\n",
    "plt.figure(figsize=(15,7))\n",
    "for i,j in zip(columns, range(1,9)):\n",
    "        plt.subplot(4,2,j)\n",
    "        sns.boxplot(df[i])\n",
    "        plt.title(i)\n",
    "plt.tight_layout()\n",
    "plt.show()"
   ]
  },
  {
   "cell_type": "code",
   "execution_count": 31,
   "metadata": {},
   "outputs": [
    {
     "data": {
      "text/html": [
       "<div>\n",
       "<style scoped>\n",
       "    .dataframe tbody tr th:only-of-type {\n",
       "        vertical-align: middle;\n",
       "    }\n",
       "\n",
       "    .dataframe tbody tr th {\n",
       "        vertical-align: top;\n",
       "    }\n",
       "\n",
       "    .dataframe thead th {\n",
       "        text-align: right;\n",
       "    }\n",
       "</style>\n",
       "<table border=\"1\" class=\"dataframe\">\n",
       "  <thead>\n",
       "    <tr style=\"text-align: right;\">\n",
       "      <th></th>\n",
       "      <th>count</th>\n",
       "      <th>mean</th>\n",
       "      <th>std</th>\n",
       "      <th>min</th>\n",
       "      <th>25%</th>\n",
       "      <th>50%</th>\n",
       "      <th>75%</th>\n",
       "      <th>max</th>\n",
       "    </tr>\n",
       "  </thead>\n",
       "  <tbody>\n",
       "    <tr>\n",
       "      <th>Year</th>\n",
       "      <td>5788.000</td>\n",
       "      <td>2013.464</td>\n",
       "      <td>3.147</td>\n",
       "      <td>1998.000</td>\n",
       "      <td>2012.000</td>\n",
       "      <td>2014.000</td>\n",
       "      <td>2016.000</td>\n",
       "      <td>2019.000</td>\n",
       "    </tr>\n",
       "    <tr>\n",
       "      <th>Kilometers_Driven</th>\n",
       "      <td>5788.000</td>\n",
       "      <td>57450.418</td>\n",
       "      <td>37631.778</td>\n",
       "      <td>1000.000</td>\n",
       "      <td>34000.000</td>\n",
       "      <td>53000.000</td>\n",
       "      <td>72506.000</td>\n",
       "      <td>775000.000</td>\n",
       "    </tr>\n",
       "    <tr>\n",
       "      <th>Engine</th>\n",
       "      <td>5788.000</td>\n",
       "      <td>1612.853</td>\n",
       "      <td>579.367</td>\n",
       "      <td>72.000</td>\n",
       "      <td>1198.000</td>\n",
       "      <td>1493.000</td>\n",
       "      <td>1968.000</td>\n",
       "      <td>5461.000</td>\n",
       "    </tr>\n",
       "    <tr>\n",
       "      <th>Power</th>\n",
       "      <td>5788.000</td>\n",
       "      <td>111.922</td>\n",
       "      <td>50.672</td>\n",
       "      <td>34.200</td>\n",
       "      <td>75.000</td>\n",
       "      <td>94.000</td>\n",
       "      <td>138.030</td>\n",
       "      <td>503.000</td>\n",
       "    </tr>\n",
       "    <tr>\n",
       "      <th>Seats</th>\n",
       "      <td>5788.000</td>\n",
       "      <td>5.287</td>\n",
       "      <td>0.776</td>\n",
       "      <td>4.000</td>\n",
       "      <td>5.000</td>\n",
       "      <td>5.000</td>\n",
       "      <td>5.000</td>\n",
       "      <td>8.000</td>\n",
       "    </tr>\n",
       "    <tr>\n",
       "      <th>Price</th>\n",
       "      <td>5788.000</td>\n",
       "      <td>9.293</td>\n",
       "      <td>10.270</td>\n",
       "      <td>0.440</td>\n",
       "      <td>3.507</td>\n",
       "      <td>5.700</td>\n",
       "      <td>9.900</td>\n",
       "      <td>79.000</td>\n",
       "    </tr>\n",
       "    <tr>\n",
       "      <th>log_Price</th>\n",
       "      <td>5788.000</td>\n",
       "      <td>1.833</td>\n",
       "      <td>0.849</td>\n",
       "      <td>-0.821</td>\n",
       "      <td>1.255</td>\n",
       "      <td>1.740</td>\n",
       "      <td>2.293</td>\n",
       "      <td>4.369</td>\n",
       "    </tr>\n",
       "    <tr>\n",
       "      <th>log_Kilometers_Driven</th>\n",
       "      <td>5788.000</td>\n",
       "      <td>10.758</td>\n",
       "      <td>0.703</td>\n",
       "      <td>6.908</td>\n",
       "      <td>10.434</td>\n",
       "      <td>10.878</td>\n",
       "      <td>11.191</td>\n",
       "      <td>13.561</td>\n",
       "    </tr>\n",
       "    <tr>\n",
       "      <th>log_Engine</th>\n",
       "      <td>5788.000</td>\n",
       "      <td>7.328</td>\n",
       "      <td>0.335</td>\n",
       "      <td>4.277</td>\n",
       "      <td>7.088</td>\n",
       "      <td>7.309</td>\n",
       "      <td>7.585</td>\n",
       "      <td>8.605</td>\n",
       "    </tr>\n",
       "    <tr>\n",
       "      <th>log_Power</th>\n",
       "      <td>5788.000</td>\n",
       "      <td>4.631</td>\n",
       "      <td>0.407</td>\n",
       "      <td>3.532</td>\n",
       "      <td>4.317</td>\n",
       "      <td>4.543</td>\n",
       "      <td>4.927</td>\n",
       "      <td>6.221</td>\n",
       "    </tr>\n",
       "  </tbody>\n",
       "</table>\n",
       "</div>"
      ],
      "text/plain": [
       "                         count      mean       std      min       25%  \\\n",
       "Year                  5788.000  2013.464     3.147 1998.000  2012.000   \n",
       "Kilometers_Driven     5788.000 57450.418 37631.778 1000.000 34000.000   \n",
       "Engine                5788.000  1612.853   579.367   72.000  1198.000   \n",
       "Power                 5788.000   111.922    50.672   34.200    75.000   \n",
       "Seats                 5788.000     5.287     0.776    4.000     5.000   \n",
       "Price                 5788.000     9.293    10.270    0.440     3.507   \n",
       "log_Price             5788.000     1.833     0.849   -0.821     1.255   \n",
       "log_Kilometers_Driven 5788.000    10.758     0.703    6.908    10.434   \n",
       "log_Engine            5788.000     7.328     0.335    4.277     7.088   \n",
       "log_Power             5788.000     4.631     0.407    3.532     4.317   \n",
       "\n",
       "                            50%       75%        max  \n",
       "Year                   2014.000  2016.000   2019.000  \n",
       "Kilometers_Driven     53000.000 72506.000 775000.000  \n",
       "Engine                 1493.000  1968.000   5461.000  \n",
       "Power                    94.000   138.030    503.000  \n",
       "Seats                     5.000     5.000      8.000  \n",
       "Price                     5.700     9.900     79.000  \n",
       "log_Price                 1.740     2.293      4.369  \n",
       "log_Kilometers_Driven    10.878    11.191     13.561  \n",
       "log_Engine                7.309     7.585      8.605  \n",
       "log_Power                 4.543     4.927      6.221  "
      ]
     },
     "execution_count": 31,
     "metadata": {},
     "output_type": "execute_result"
    }
   ],
   "source": [
    "df.describe().T"
   ]
  },
  {
   "cell_type": "markdown",
   "metadata": {},
   "source": [
    "Grafiklerde logaritmik dönüşümün dağılımları belli oranda düzelttiğini söyleyebilriz.\n",
    "Özellikle de Power ve Price değişkeni için hayli işe yaramış görünüyor. Ama hala aykırı değerlerimiz var.\n",
    "Temel istatistiklere bakınca değişkenlerin logaritmik hallerinin verilerinin daha iyi olduğunu söyleyebiliriz. Şimdi de korelasyon matrisine bakalım."
   ]
  },
  {
   "cell_type": "code",
   "execution_count": 32,
   "metadata": {
    "scrolled": false
   },
   "outputs": [
    {
     "data": {
      "text/html": [
       "<div>\n",
       "<style scoped>\n",
       "    .dataframe tbody tr th:only-of-type {\n",
       "        vertical-align: middle;\n",
       "    }\n",
       "\n",
       "    .dataframe tbody tr th {\n",
       "        vertical-align: top;\n",
       "    }\n",
       "\n",
       "    .dataframe thead th {\n",
       "        text-align: right;\n",
       "    }\n",
       "</style>\n",
       "<table border=\"1\" class=\"dataframe\">\n",
       "  <thead>\n",
       "    <tr style=\"text-align: right;\">\n",
       "      <th></th>\n",
       "      <th>Year</th>\n",
       "      <th>Kilometers_Driven</th>\n",
       "      <th>Engine</th>\n",
       "      <th>Power</th>\n",
       "      <th>Seats</th>\n",
       "      <th>Price</th>\n",
       "      <th>log_Price</th>\n",
       "      <th>log_Kilometers_Driven</th>\n",
       "      <th>log_Engine</th>\n",
       "      <th>log_Power</th>\n",
       "    </tr>\n",
       "  </thead>\n",
       "  <tbody>\n",
       "    <tr>\n",
       "      <th>Year</th>\n",
       "      <td>1.000</td>\n",
       "      <td>-0.443</td>\n",
       "      <td>-0.068</td>\n",
       "      <td>0.012</td>\n",
       "      <td>0.022</td>\n",
       "      <td>0.317</td>\n",
       "      <td>0.494</td>\n",
       "      <td>-0.500</td>\n",
       "      <td>-0.061</td>\n",
       "      <td>0.035</td>\n",
       "    </tr>\n",
       "    <tr>\n",
       "      <th>Kilometers_Driven</th>\n",
       "      <td>-0.443</td>\n",
       "      <td>1.000</td>\n",
       "      <td>0.178</td>\n",
       "      <td>0.022</td>\n",
       "      <td>0.203</td>\n",
       "      <td>-0.158</td>\n",
       "      <td>-0.175</td>\n",
       "      <td>0.817</td>\n",
       "      <td>0.189</td>\n",
       "      <td>0.042</td>\n",
       "    </tr>\n",
       "    <tr>\n",
       "      <th>Engine</th>\n",
       "      <td>-0.068</td>\n",
       "      <td>0.178</td>\n",
       "      <td>1.000</td>\n",
       "      <td>0.860</td>\n",
       "      <td>0.471</td>\n",
       "      <td>0.651</td>\n",
       "      <td>0.683</td>\n",
       "      <td>0.178</td>\n",
       "      <td>0.974</td>\n",
       "      <td>0.853</td>\n",
       "    </tr>\n",
       "    <tr>\n",
       "      <th>Power</th>\n",
       "      <td>0.012</td>\n",
       "      <td>0.022</td>\n",
       "      <td>0.860</td>\n",
       "      <td>1.000</td>\n",
       "      <td>0.176</td>\n",
       "      <td>0.768</td>\n",
       "      <td>0.770</td>\n",
       "      <td>0.040</td>\n",
       "      <td>0.843</td>\n",
       "      <td>0.964</td>\n",
       "    </tr>\n",
       "    <tr>\n",
       "      <th>Seats</th>\n",
       "      <td>0.022</td>\n",
       "      <td>0.203</td>\n",
       "      <td>0.471</td>\n",
       "      <td>0.176</td>\n",
       "      <td>1.000</td>\n",
       "      <td>0.133</td>\n",
       "      <td>0.216</td>\n",
       "      <td>0.180</td>\n",
       "      <td>0.450</td>\n",
       "      <td>0.218</td>\n",
       "    </tr>\n",
       "    <tr>\n",
       "      <th>Price</th>\n",
       "      <td>0.317</td>\n",
       "      <td>-0.158</td>\n",
       "      <td>0.651</td>\n",
       "      <td>0.768</td>\n",
       "      <td>0.133</td>\n",
       "      <td>1.000</td>\n",
       "      <td>0.869</td>\n",
       "      <td>-0.174</td>\n",
       "      <td>0.621</td>\n",
       "      <td>0.714</td>\n",
       "    </tr>\n",
       "    <tr>\n",
       "      <th>log_Price</th>\n",
       "      <td>0.494</td>\n",
       "      <td>-0.175</td>\n",
       "      <td>0.683</td>\n",
       "      <td>0.770</td>\n",
       "      <td>0.216</td>\n",
       "      <td>0.869</td>\n",
       "      <td>1.000</td>\n",
       "      <td>-0.190</td>\n",
       "      <td>0.690</td>\n",
       "      <td>0.784</td>\n",
       "    </tr>\n",
       "    <tr>\n",
       "      <th>log_Kilometers_Driven</th>\n",
       "      <td>-0.500</td>\n",
       "      <td>0.817</td>\n",
       "      <td>0.178</td>\n",
       "      <td>0.040</td>\n",
       "      <td>0.180</td>\n",
       "      <td>-0.174</td>\n",
       "      <td>-0.190</td>\n",
       "      <td>1.000</td>\n",
       "      <td>0.195</td>\n",
       "      <td>0.061</td>\n",
       "    </tr>\n",
       "    <tr>\n",
       "      <th>log_Engine</th>\n",
       "      <td>-0.061</td>\n",
       "      <td>0.189</td>\n",
       "      <td>0.974</td>\n",
       "      <td>0.843</td>\n",
       "      <td>0.450</td>\n",
       "      <td>0.621</td>\n",
       "      <td>0.690</td>\n",
       "      <td>0.195</td>\n",
       "      <td>1.000</td>\n",
       "      <td>0.883</td>\n",
       "    </tr>\n",
       "    <tr>\n",
       "      <th>log_Power</th>\n",
       "      <td>0.035</td>\n",
       "      <td>0.042</td>\n",
       "      <td>0.853</td>\n",
       "      <td>0.964</td>\n",
       "      <td>0.218</td>\n",
       "      <td>0.714</td>\n",
       "      <td>0.784</td>\n",
       "      <td>0.061</td>\n",
       "      <td>0.883</td>\n",
       "      <td>1.000</td>\n",
       "    </tr>\n",
       "  </tbody>\n",
       "</table>\n",
       "</div>"
      ],
      "text/plain": [
       "                        Year  Kilometers_Driven  Engine  Power  Seats  Price  \\\n",
       "Year                   1.000             -0.443  -0.068  0.012  0.022  0.317   \n",
       "Kilometers_Driven     -0.443              1.000   0.178  0.022  0.203 -0.158   \n",
       "Engine                -0.068              0.178   1.000  0.860  0.471  0.651   \n",
       "Power                  0.012              0.022   0.860  1.000  0.176  0.768   \n",
       "Seats                  0.022              0.203   0.471  0.176  1.000  0.133   \n",
       "Price                  0.317             -0.158   0.651  0.768  0.133  1.000   \n",
       "log_Price              0.494             -0.175   0.683  0.770  0.216  0.869   \n",
       "log_Kilometers_Driven -0.500              0.817   0.178  0.040  0.180 -0.174   \n",
       "log_Engine            -0.061              0.189   0.974  0.843  0.450  0.621   \n",
       "log_Power              0.035              0.042   0.853  0.964  0.218  0.714   \n",
       "\n",
       "                       log_Price  log_Kilometers_Driven  log_Engine  log_Power  \n",
       "Year                       0.494                 -0.500      -0.061      0.035  \n",
       "Kilometers_Driven         -0.175                  0.817       0.189      0.042  \n",
       "Engine                     0.683                  0.178       0.974      0.853  \n",
       "Power                      0.770                  0.040       0.843      0.964  \n",
       "Seats                      0.216                  0.180       0.450      0.218  \n",
       "Price                      0.869                 -0.174       0.621      0.714  \n",
       "log_Price                  1.000                 -0.190       0.690      0.784  \n",
       "log_Kilometers_Driven     -0.190                  1.000       0.195      0.061  \n",
       "log_Engine                 0.690                  0.195       1.000      0.883  \n",
       "log_Power                  0.784                  0.061       0.883      1.000  "
      ]
     },
     "execution_count": 32,
     "metadata": {},
     "output_type": "execute_result"
    }
   ],
   "source": [
    "df.corr()"
   ]
  },
  {
   "cell_type": "markdown",
   "metadata": {},
   "source": [
    "Sürekli değişkenlerimiz farklı birimlerden ve değişken aralıklardan geldikleri için logaritmaları alınmış hallerini kullanmalıyız.   \n",
    "Bağımlı değişkenin logaritmik halinin, diğer değişkenlerin normal halleri ile olan korelasyonu, kendi normal halinin korelasyonundan fazla.  \n",
    "Aynı şekilde diğer değişkenlerin logaritmik halleri de bağımlı değişkenin logaritmik hali ile kendi normal hallerinden daha fazla koreleler.\n",
    "Korelasyon tablosundaki değişkenlerin bağımlı değişken ile korelasyon miktarlarına göre sıralarsak:  \n",
    "**log_power** > **log_Engine** > **Year** > **Seats** > **log_Kilometers_Driven**  \n",
    "Son olarak da bağımsız değişken adaylarının kendi içlerindeki korelasyon miktarlarına bakalım.  \n",
    "**Power**-**Engine** ikilisinin çok fazla korele olduğu görülüyor.\n",
    "Modellerimiz için değişken seçiminde bu bilgileri göz önünde bulundurmalıyız. "
   ]
  },
  {
   "cell_type": "markdown",
   "metadata": {},
   "source": [
    "### 3.Model Oluşturma ve Seçme"
   ]
  },
  {
   "cell_type": "markdown",
   "metadata": {},
   "source": [
    "Model oluştururken ilk olarak çoklu doğrusallık olmaması için birbiri ile korelasyonu yüksek olan\n",
    "Engine-Power ikilisinden bağımlı değişken ile daha yüksek korelasyonu olan power değişkenini seçerek başlıyoruz.\n",
    "Sonrasında Name ve Brand değişkeni hariç tüm değişkenleri modele ekliyoruz. Brand değişkeni dahil edildiğinde daha yüksek R2 elde ediyoruz ama diğer tüm değişkenleri baskıladığından ve level sayısı fazla olduğu için modeli karmaşık hale getirdiğinden dolayı o olmadan yolumuza devam ediyoruz. Sürekli değişkenlerimizden logaritmasını aldıklarımızı modele katıyoruz bağımlı değişkenimizin de logaritması alınmış halini regresyona katıyoruz."
   ]
  },
  {
   "cell_type": "markdown",
   "metadata": {},
   "source": [
    "Modeller arası geçişlerde hangi değişkenin çıkarılması gerektiğine de katsayısının **p-value** miktarını ve bağımlı değişken ile **korelasyon** miktarını gözönüne alarak karar vereceğiz.  \n",
    " **Ayarlanmıs R^2** ve **AIC** kriterlerine göre de önceki sonraki modelin kalitesini yorumlayacağız. "
   ]
  },
  {
   "cell_type": "markdown",
   "metadata": {},
   "source": [
    "Kategorik değişkenlerin dummy hallerinin base levellarını yazalım:  \n",
    "* Fuel_Type -> CNG\n",
    "* Transmission -> Automatic\n",
    "* Owner_Type -> First"
   ]
  },
  {
   "cell_type": "markdown",
   "metadata": {},
   "source": [
    "Model 1 tüm değişkenleri içeriyor."
   ]
  },
  {
   "cell_type": "code",
   "execution_count": 33,
   "metadata": {},
   "outputs": [],
   "source": [
    "#model1 tüm değişkenler var.  \n",
    "X=df[['Year','log_Kilometers_Driven','Fuel_Type','Transmission','Owner_Type','log_Power','Seats']]\n",
    "y=df['log_Price']"
   ]
  },
  {
   "cell_type": "code",
   "execution_count": 34,
   "metadata": {},
   "outputs": [],
   "source": [
    "X = pd.get_dummies(data=X, drop_first=True) "
   ]
  },
  {
   "cell_type": "code",
   "execution_count": 35,
   "metadata": {},
   "outputs": [],
   "source": [
    "X_train, X_test, y_train, y_test = train_test_split(X, y, test_size = .20, random_state = 66)"
   ]
  },
  {
   "cell_type": "code",
   "execution_count": 36,
   "metadata": {},
   "outputs": [
    {
     "name": "stdout",
     "output_type": "stream",
     "text": [
      "                            OLS Regression Results                            \n",
      "==============================================================================\n",
      "Dep. Variable:              log_Price   R-squared:                       0.871\n",
      "Model:                            OLS   Adj. R-squared:                  0.871\n",
      "Method:                 Least Squares   F-statistic:                     2831.\n",
      "Date:                Mon, 18 Nov 2019   Prob (F-statistic):               0.00\n",
      "Time:                        15:14:55   Log-Likelihood:                -1045.5\n",
      "No. Observations:                4630   AIC:                             2115.\n",
      "Df Residuals:                    4618   BIC:                             2192.\n",
      "Df Model:                          11                                         \n",
      "Covariance Type:            nonrobust                                         \n",
      "=========================================================================================\n",
      "                            coef    std err          t      P>|t|      [0.025      0.975]\n",
      "-----------------------------------------------------------------------------------------\n",
      "const                  -220.7837      3.671    -60.136      0.000    -227.981    -213.586\n",
      "Year                      0.1080      0.002     60.052      0.000       0.104       0.112\n",
      "log_Kilometers_Driven    -0.0635      0.008     -7.805      0.000      -0.079      -0.048\n",
      "log_Power                 1.2480      0.016     80.340      0.000       1.218       1.278\n",
      "Seats                     0.0567      0.006      8.948      0.000       0.044       0.069\n",
      "Fuel_Type_Diesel          0.0937      0.048      1.934      0.053      -0.001       0.189\n",
      "Fuel_Type_Electric        1.2357      0.220      5.607      0.000       0.804       1.668\n",
      "Fuel_Type_LPG             0.0941      0.124      0.756      0.450      -0.150       0.338\n",
      "Fuel_Type_Petrol         -0.1773      0.048     -3.679      0.000      -0.272      -0.083\n",
      "Transmission_Manual      -0.3384      0.013    -25.566      0.000      -0.364      -0.312\n",
      "Owner_Type_Second        -0.0546      0.013     -4.257      0.000      -0.080      -0.029\n",
      "Owner_Type_Third         -0.1303      0.035     -3.687      0.000      -0.200      -0.061\n",
      "==============================================================================\n",
      "Omnibus:                       68.103   Durbin-Watson:                   2.032\n",
      "Prob(Omnibus):                  0.000   Jarque-Bera (JB):              106.507\n",
      "Skew:                          -0.141   Prob(JB):                     7.45e-24\n",
      "Kurtosis:                       3.687   Cond. No.                     1.66e+06\n",
      "==============================================================================\n",
      "\n",
      "Warnings:\n",
      "[1] Standard Errors assume that the covariance matrix of the errors is correctly specified.\n",
      "[2] The condition number is large, 1.66e+06. This might indicate that there are\n",
      "strong multicollinearity or other numerical problems.\n"
     ]
    }
   ],
   "source": [
    "\n",
    "X_train=sm.add_constant(X_train)\n",
    "result1=sm.OLS(y_train,X_train).fit()\n",
    "print(result1.summary())"
   ]
  },
  {
   "cell_type": "markdown",
   "metadata": {},
   "source": [
    "Model1 için Fuel_Type değişkeninin Diesel ve LPG kategorisinin katsayıları anlamsız çıktı ama bu değişkenin diğer kategoırileri anlamlı göründüğünden modelde tutmaya devam edeceğiz. Katsayıların istatistksel anlamlılık durumlarından değişken elemesi yapamadığımızdan yolumuza hedef ile korelasyonu en az olan **log_Kilometers_Driven**'ı çıkararak devam ediyoruz."
   ]
  },
  {
   "cell_type": "code",
   "execution_count": 37,
   "metadata": {},
   "outputs": [],
   "source": [
    "#model2\n",
    "#'log_Kilometers_Driven', cıkarıldı.\n",
    "X=df[['Year','Fuel_Type','Seats','Transmission','Owner_Type','log_Power']]\n",
    "y=df['log_Price']"
   ]
  },
  {
   "cell_type": "code",
   "execution_count": 38,
   "metadata": {},
   "outputs": [],
   "source": [
    "X = pd.get_dummies(data=X, drop_first=True)"
   ]
  },
  {
   "cell_type": "code",
   "execution_count": 39,
   "metadata": {},
   "outputs": [],
   "source": [
    "X_train, X_test, y_train, y_test = train_test_split(X, y, test_size = .20, random_state = 66)"
   ]
  },
  {
   "cell_type": "code",
   "execution_count": 40,
   "metadata": {},
   "outputs": [
    {
     "name": "stdout",
     "output_type": "stream",
     "text": [
      "                            OLS Regression Results                            \n",
      "==============================================================================\n",
      "Dep. Variable:              log_Price   R-squared:                       0.869\n",
      "Model:                            OLS   Adj. R-squared:                  0.869\n",
      "Method:                 Least Squares   F-statistic:                     3068.\n",
      "Date:                Mon, 18 Nov 2019   Prob (F-statistic):               0.00\n",
      "Time:                        15:14:56   Log-Likelihood:                -1075.8\n",
      "No. Observations:                4630   AIC:                             2174.\n",
      "Df Residuals:                    4619   BIC:                             2244.\n",
      "Df Model:                          10                                         \n",
      "Covariance Type:            nonrobust                                         \n",
      "=======================================================================================\n",
      "                          coef    std err          t      P>|t|      [0.025      0.975]\n",
      "---------------------------------------------------------------------------------------\n",
      "const                -236.0580      3.126    -75.504      0.000    -242.187    -229.929\n",
      "Year                    0.1153      0.002     74.415      0.000       0.112       0.118\n",
      "Seats                   0.0516      0.006      8.145      0.000       0.039       0.064\n",
      "log_Power               1.2458      0.016     79.698      0.000       1.215       1.276\n",
      "Fuel_Type_Diesel        0.0892      0.049      1.830      0.067      -0.006       0.185\n",
      "Fuel_Type_Electric      1.2333      0.222      5.560      0.000       0.798       1.668\n",
      "Fuel_Type_LPG           0.1186      0.125      0.948      0.343      -0.127       0.364\n",
      "Fuel_Type_Petrol       -0.1551      0.048     -3.204      0.001      -0.250      -0.060\n",
      "Transmission_Manual    -0.3476      0.013    -26.203      0.000      -0.374      -0.322\n",
      "Owner_Type_Second      -0.0599      0.013     -4.653      0.000      -0.085      -0.035\n",
      "Owner_Type_Third       -0.1340      0.036     -3.769      0.000      -0.204      -0.064\n",
      "==============================================================================\n",
      "Omnibus:                       77.952   Durbin-Watson:                   2.030\n",
      "Prob(Omnibus):                  0.000   Jarque-Bera (JB):              133.384\n",
      "Skew:                          -0.130   Prob(JB):                     1.09e-29\n",
      "Kurtosis:                       3.790   Cond. No.                     1.40e+06\n",
      "==============================================================================\n",
      "\n",
      "Warnings:\n",
      "[1] Standard Errors assume that the covariance matrix of the errors is correctly specified.\n",
      "[2] The condition number is large, 1.4e+06. This might indicate that there are\n",
      "strong multicollinearity or other numerical problems.\n"
     ]
    }
   ],
   "source": [
    "X_train=sm.add_constant(X_train)\n",
    "result2=sm.OLS(y_train,X_train).fit()\n",
    "print(result2.summary())"
   ]
  },
  {
   "cell_type": "markdown",
   "metadata": {},
   "source": [
    "Model2 için de yine Fuel_Type değişkeninin Diesel ve LPG kategorilerinin katsayıları anlamsız çıktı.Ayarlanmış R^2 miz Binde 2 düştü ve AIC miktarımız arttı. Hedef ile en az korele olan  **Seats** değişkenini çıkarıyoruz."
   ]
  },
  {
   "cell_type": "code",
   "execution_count": 41,
   "metadata": {},
   "outputs": [],
   "source": [
    "#model3\n",
    "#'Seats' cıkarıldı.,\n",
    "X=df[['Year','Transmission','Owner_Type','Fuel_Type','log_Power']]\n",
    "y=df['log_Price']"
   ]
  },
  {
   "cell_type": "code",
   "execution_count": 42,
   "metadata": {},
   "outputs": [],
   "source": [
    "X = pd.get_dummies(data=X, drop_first=True)"
   ]
  },
  {
   "cell_type": "code",
   "execution_count": 43,
   "metadata": {},
   "outputs": [],
   "source": [
    "X_train, X_test, y_train, y_test = train_test_split(X, y, test_size = .20, random_state = 66)"
   ]
  },
  {
   "cell_type": "code",
   "execution_count": 44,
   "metadata": {},
   "outputs": [
    {
     "name": "stdout",
     "output_type": "stream",
     "text": [
      "                            OLS Regression Results                            \n",
      "==============================================================================\n",
      "Dep. Variable:              log_Price   R-squared:                       0.867\n",
      "Model:                            OLS   Adj. R-squared:                  0.867\n",
      "Method:                 Least Squares   F-statistic:                     3355.\n",
      "Date:                Mon, 18 Nov 2019   Prob (F-statistic):               0.00\n",
      "Time:                        15:14:57   Log-Likelihood:                -1108.8\n",
      "No. Observations:                4630   AIC:                             2238.\n",
      "Df Residuals:                    4620   BIC:                             2302.\n",
      "Df Model:                           9                                         \n",
      "Covariance Type:            nonrobust                                         \n",
      "=======================================================================================\n",
      "                          coef    std err          t      P>|t|      [0.025      0.975]\n",
      "---------------------------------------------------------------------------------------\n",
      "const                -236.1521      3.148    -75.006      0.000    -242.325    -229.980\n",
      "Year                    0.1154      0.002     73.960      0.000       0.112       0.118\n",
      "log_Power               1.2777      0.015     83.832      0.000       1.248       1.308\n",
      "Transmission_Manual    -0.3217      0.013    -24.804      0.000      -0.347      -0.296\n",
      "Owner_Type_Second      -0.0604      0.013     -4.657      0.000      -0.086      -0.035\n",
      "Owner_Type_Third       -0.1260      0.036     -3.519      0.000      -0.196      -0.056\n",
      "Fuel_Type_Diesel        0.1007      0.049      2.052      0.040       0.004       0.197\n",
      "Fuel_Type_Electric      1.2599      0.223      5.640      0.000       0.822       1.698\n",
      "Fuel_Type_LPG           0.1169      0.126      0.927      0.354      -0.130       0.364\n",
      "Fuel_Type_Petrol       -0.1626      0.049     -3.336      0.001      -0.258      -0.067\n",
      "==============================================================================\n",
      "Omnibus:                       79.262   Durbin-Watson:                   2.026\n",
      "Prob(Omnibus):                  0.000   Jarque-Bera (JB):              144.411\n",
      "Skew:                          -0.102   Prob(JB):                     4.38e-32\n",
      "Kurtosis:                       3.841   Cond. No.                     1.40e+06\n",
      "==============================================================================\n",
      "\n",
      "Warnings:\n",
      "[1] Standard Errors assume that the covariance matrix of the errors is correctly specified.\n",
      "[2] The condition number is large, 1.4e+06. This might indicate that there are\n",
      "strong multicollinearity or other numerical problems.\n"
     ]
    }
   ],
   "source": [
    "X_train=sm.add_constant(X_train)\n",
    "result3=sm.OLS(y_train,X_train).fit()\n",
    "print(result3.summary())"
   ]
  },
  {
   "cell_type": "markdown",
   "metadata": {},
   "source": [
    "Model3 de Bu sefer 0.05 anlamlılık seviyesine göre Fuel_Type değişkeninin LPG kategorisi anlamsız çıktı. Ayarlanmış R^2 miz\n",
    "önceki modele göre Binde 2 azaldı ve AIC miktarımız arttı. Geriye kalan sürekli değişkenlerimizin hedef ile korelasyon miktarları 0.5 seviyesine yakın veya üzerinde olduğundan şimdilik onları modelde tutuyoruz. Kategorik değişkenlerden sezgisel olarak daha az anlamlı olabilir diye düşündüğümüz **Owner_Type** değişkenini çıkararak devam ediyoruz.\n"
   ]
  },
  {
   "cell_type": "code",
   "execution_count": 45,
   "metadata": {},
   "outputs": [],
   "source": [
    "#model4\n",
    "#  'Owner_Type' gitti.\n",
    "X=df[['Year','Transmission','Fuel_Type','log_Power']]\n",
    "y=df['log_Price']"
   ]
  },
  {
   "cell_type": "code",
   "execution_count": 46,
   "metadata": {},
   "outputs": [],
   "source": [
    "X = pd.get_dummies(data=X, drop_first=True)"
   ]
  },
  {
   "cell_type": "code",
   "execution_count": 47,
   "metadata": {},
   "outputs": [],
   "source": [
    "X_train, X_test, y_train, y_test = train_test_split(X, y, test_size = .20, random_state = 66)"
   ]
  },
  {
   "cell_type": "code",
   "execution_count": 48,
   "metadata": {},
   "outputs": [
    {
     "name": "stdout",
     "output_type": "stream",
     "text": [
      "                            OLS Regression Results                            \n",
      "==============================================================================\n",
      "Dep. Variable:              log_Price   R-squared:                       0.866\n",
      "Model:                            OLS   Adj. R-squared:                  0.866\n",
      "Method:                 Least Squares   F-statistic:                     4282.\n",
      "Date:                Mon, 18 Nov 2019   Prob (F-statistic):               0.00\n",
      "Time:                        15:14:58   Log-Likelihood:                -1124.0\n",
      "No. Observations:                4630   AIC:                             2264.\n",
      "Df Residuals:                    4622   BIC:                             2316.\n",
      "Df Model:                           7                                         \n",
      "Covariance Type:            nonrobust                                         \n",
      "=======================================================================================\n",
      "                          coef    std err          t      P>|t|      [0.025      0.975]\n",
      "---------------------------------------------------------------------------------------\n",
      "const                -242.5257      2.937    -82.563      0.000    -248.285    -236.767\n",
      "Year                    0.1185      0.001     81.453      0.000       0.116       0.121\n",
      "log_Power               1.2763      0.015     83.515      0.000       1.246       1.306\n",
      "Transmission_Manual    -0.3204      0.013    -24.628      0.000      -0.346      -0.295\n",
      "Fuel_Type_Diesel        0.1040      0.049      2.113      0.035       0.008       0.200\n",
      "Fuel_Type_Electric      1.2748      0.224      5.690      0.000       0.836       1.714\n",
      "Fuel_Type_LPG           0.1234      0.126      0.977      0.329      -0.124       0.371\n",
      "Fuel_Type_Petrol       -0.1599      0.049     -3.272      0.001      -0.256      -0.064\n",
      "==============================================================================\n",
      "Omnibus:                       84.670   Durbin-Watson:                   2.023\n",
      "Prob(Omnibus):                  0.000   Jarque-Bera (JB):              154.131\n",
      "Skew:                          -0.119   Prob(JB):                     3.39e-34\n",
      "Kurtosis:                       3.862   Cond. No.                     1.30e+06\n",
      "==============================================================================\n",
      "\n",
      "Warnings:\n",
      "[1] Standard Errors assume that the covariance matrix of the errors is correctly specified.\n",
      "[2] The condition number is large, 1.3e+06. This might indicate that there are\n",
      "strong multicollinearity or other numerical problems.\n"
     ]
    }
   ],
   "source": [
    "X_train=sm.add_constant(X_train)\n",
    "result4=sm.OLS(y_train,X_train).fit()\n",
    "print(result4.summary())"
   ]
  },
  {
   "cell_type": "markdown",
   "metadata": {},
   "source": [
    "Model4 de yine Fuel_Type değişkeninin LPG kategorisinin katsayısı anlamsız çıktı.\n",
    "Bir önceki modele göre Ayarlanmış R^2 binde 1 azalırken AIC miktarı arttı. Bu sefer yine kategorik değişkenlerden bazı kategorileri anlamlı bazısı anlamsız çıkan **Fuel_Type** değişkenini çıkarıyoruz modelimizden."
   ]
  },
  {
   "cell_type": "code",
   "execution_count": 49,
   "metadata": {},
   "outputs": [],
   "source": [
    "#model5\n",
    "# 'Fuel_Type' gitti\n",
    "\n",
    "X=df[['Year','Transmission','log_Power']]\n",
    "y=df['log_Price']"
   ]
  },
  {
   "cell_type": "code",
   "execution_count": 50,
   "metadata": {},
   "outputs": [],
   "source": [
    "X = pd.get_dummies(data=X, drop_first=True)"
   ]
  },
  {
   "cell_type": "code",
   "execution_count": 51,
   "metadata": {},
   "outputs": [],
   "source": [
    "X_train, X_test, y_train, y_test = train_test_split(X, y, test_size = .20, random_state = 66)"
   ]
  },
  {
   "cell_type": "code",
   "execution_count": 52,
   "metadata": {},
   "outputs": [
    {
     "name": "stdout",
     "output_type": "stream",
     "text": [
      "                            OLS Regression Results                            \n",
      "==============================================================================\n",
      "Dep. Variable:              log_Price   R-squared:                       0.844\n",
      "Model:                            OLS   Adj. R-squared:                  0.844\n",
      "Method:                 Least Squares   F-statistic:                     8357.\n",
      "Date:                Mon, 18 Nov 2019   Prob (F-statistic):               0.00\n",
      "Time:                        15:14:58   Log-Likelihood:                -1479.8\n",
      "No. Observations:                4630   AIC:                             2968.\n",
      "Df Residuals:                    4626   BIC:                             2993.\n",
      "Df Model:                           3                                         \n",
      "Covariance Type:            nonrobust                                         \n",
      "=======================================================================================\n",
      "                          coef    std err          t      P>|t|      [0.025      0.975]\n",
      "---------------------------------------------------------------------------------------\n",
      "const                -251.7971      3.143    -80.104      0.000    -257.960    -245.635\n",
      "Year                    0.1228      0.002     78.772      0.000       0.120       0.126\n",
      "log_Power               1.4014      0.015     90.665      0.000       1.371       1.432\n",
      "Transmission_Manual    -0.2877      0.014    -20.668      0.000      -0.315      -0.260\n",
      "==============================================================================\n",
      "Omnibus:                       53.276   Durbin-Watson:                   2.017\n",
      "Prob(Omnibus):                  0.000   Jarque-Bera (JB):               91.253\n",
      "Skew:                           0.030   Prob(JB):                     1.53e-20\n",
      "Kurtosis:                       3.685   Cond. No.                     1.29e+06\n",
      "==============================================================================\n",
      "\n",
      "Warnings:\n",
      "[1] Standard Errors assume that the covariance matrix of the errors is correctly specified.\n",
      "[2] The condition number is large, 1.29e+06. This might indicate that there are\n",
      "strong multicollinearity or other numerical problems.\n"
     ]
    }
   ],
   "source": [
    "X_train=sm.add_constant(X_train)\n",
    "result5=sm.OLS(y_train,X_train).fit()\n",
    "print(result5.summary())"
   ]
  },
  {
   "cell_type": "markdown",
   "metadata": {},
   "source": [
    "Model5 için tüm değişkenlerin katsayıları anlamlı görünüyor. Önceki modele göre ayarlanmış R^2binde 22 azaldı ve AIC miktarı arttı. Model oluşturmayı burada bırakıp sonuçları yorumlamaya geçiyoruz."
   ]
  },
  {
   "cell_type": "markdown",
   "metadata": {},
   "source": [
    "### 4.Model Sonuçlarını Yorumlama"
   ]
  },
  {
   "cell_type": "markdown",
   "metadata": {},
   "source": [
    "Modeller arasında geçişleri buraya kadar tek tek özellik çıkarınca aşırı oynama olmadan azalan adj-R2 ile bitirdik. Son modellerde **3 değişkenle %84** varyans açıklanabiliyor görünüyor. Az değişkenle kabul edilebilir bir R^2 oranı bizim için.Bu yüzden;\n"
   ]
  },
  {
   "cell_type": "markdown",
   "metadata": {},
   "source": [
    "**Model5**'i son modelimiz olarak seçiyoruz.Modelden elde ettiğimiz katsayılardan sonra denklemimiz şu şekilde: \n",
    "  \n",
    "  \n",
    "**log_Price= -251.7971 + 0.1228* Year +1.4014* log_Power-0.2877* Transmission_Manual**"
   ]
  },
  {
   "cell_type": "markdown",
   "metadata": {},
   "source": [
    "**Year** bağımsız değişkeninde bir birim artış **Price** değişkeninde **%12**lik bir artısa neden oluyor.  \n",
    "**Power** değişkenindeki **%1**lik bir artış **Price** değişkeninde **%1.4** lük bir artışa neden oluyor.  \n",
    "**Transmission** değişkeninin değerinin **Manual** olması **Price** değişkeninin değerini **%28** azaltıyor.  \n",
    "Aynı şekilde **Transmission** değişkeninin değer **Automatic** olduğunda **Price** değişkeninin değeri **%28** artıyor."
   ]
  },
  {
   "cell_type": "markdown",
   "metadata": {},
   "source": [
    "### 5.Tahmin Yapma"
   ]
  },
  {
   "cell_type": "code",
   "execution_count": 53,
   "metadata": {},
   "outputs": [],
   "source": [
    "#model5 için tahmin ve mse değerleri\n",
    "X_test=sm.add_constant(X_test)\n",
    "result5_predicted=result5.predict(X_test) #esas tahminler \n",
    "train5_predicted=result5.predict(X_train)\n",
    "mse1=mse(y_test,result5_predicted)\n",
    "#print(\"Ortalama Kare Hata (MSE)          : {}\".format(mse(y_test,result1_predicted)))"
   ]
  },
  {
   "cell_type": "code",
   "execution_count": 54,
   "metadata": {},
   "outputs": [
    {
     "data": {
      "image/png": "[encoded data removed]",
      "text/plain": [
       "<Figure size 720x360 with 2 Axes>"
      ]
     },
     "metadata": {
      "needs_background": "light"
     },
     "output_type": "display_data"
    }
   ],
   "source": [
    "header_font = {'family':'arial', 'color':'darkred', 'weight':'bold', 'size':14}\n",
    "axis_font = {'family':'arial', 'color':'darkblue', 'weight':'bold', 'size':12}\n",
    "\n",
    "plt.figure(figsize=(10,5))\n",
    "plt.subplot(1,2,1)\n",
    "plt.scatter(y_train, train5_predicted, color=\"darkorange\", label=\"Training Set\")\n",
    "plt.scatter(y_test, result5_predicted, color=\"darkblue\", label=\"Test Set\", alpha=0.2)\n",
    "plt.plot(y_test, y_test, color=\"green\", label=\"Price (Logaritmic)\")\n",
    "plt.xlabel(\"Gerçek Değerler\", fontdict=axis_font)\n",
    "plt.ylabel(\"Tahmin Edilen Değerler\", fontdict=axis_font)\n",
    "plt.title(\"Gerçek ve Tahmin Edilen Fiyatlar (Model 5)\", fontdict=header_font)\n",
    "plt.legend(loc = \"upper left\")\n",
    "plt.subplot(1,2,2)\n",
    "plt.scatter(np.exp(y_train), np.exp(train5_predicted), color=\"darkorange\", label=\"Training Set\")\n",
    "plt.scatter(np.exp(y_test), np.exp(result5_predicted), color=\"darkblue\", label=\"Test Set\", alpha=0.2)\n",
    "plt.plot(np.exp(y_test), np.exp(y_test), color=\"green\", label=\"Price\")\n",
    "plt.xlabel(\"Gerçek Değerler\", fontdict=axis_font)\n",
    "plt.ylabel(\"Tahmin Edilen Değerler\", fontdict=axis_font)\n",
    "plt.title(\"Gerçek ve Tahmin Edilen Fiyatlar (Model 5)\", fontdict=header_font)\n",
    "plt.legend(loc = \"upper left\")\n",
    "\n",
    "\n",
    "plt.tight_layout()\n",
    "plt.show()"
   ]
  },
  {
   "cell_type": "markdown",
   "metadata": {},
   "source": [
    "**Price** değişkeninin hem normal hem de logaritmic halinin,\n",
    "tahmin edilen ve gerçekte olan değerlerin eğitim ve test kümeleri için çizilmiş garfiklerini görüyoruz yukarda.\n",
    "Modelin fiyatlar yükseldikçe tahmin başarısının azaldığı görülüyor."
   ]
  },
  {
   "cell_type": "markdown",
   "metadata": {},
   "source": [
    "Seçtiğimiz modelimizin overfit sorunu olup olmadığını anlamak için çapraz doğrulama yapıyoruz."
   ]
  },
  {
   "cell_type": "code",
   "execution_count": 55,
   "metadata": {},
   "outputs": [
    {
     "data": {
      "text/plain": [
       "LinearRegression(copy_X=True, fit_intercept=True, n_jobs=None, normalize=False)"
      ]
     },
     "execution_count": 55,
     "metadata": {},
     "output_type": "execute_result"
    }
   ],
   "source": [
    "#modelin sci-kit learn ile tekrar inşaası\n",
    "X=df[['Year','Transmission','log_Power']]\n",
    "y=df['log_Price']\n",
    "X = pd.get_dummies(data=X, drop_first=True)\n",
    "X_train, X_test, y_train, y_test = train_test_split(X, y, test_size = .20, random_state = 66)\n",
    "lin_reg = LinearRegression()\n",
    "lin_reg.fit(X_train, y_train)"
   ]
  },
  {
   "cell_type": "code",
   "execution_count": 56,
   "metadata": {},
   "outputs": [
    {
     "name": "stdout",
     "output_type": "stream",
     "text": [
      "Test Doğruluk Ortalaması: 0.8507028394245916\n",
      "Eğitim Doğruluk Ortalaması: 0.8426211650662555\n"
     ]
    }
   ],
   "source": [
    "test_dogruluk= model_selection.cross_val_score(lin_reg, X_test, y_test, cv = 10).mean()\n",
    "print(\"Test Doğruluk Ortalaması:\", test_dogruluk)\n",
    "\n",
    "egitim_dogruluk= model_selection.cross_val_score(lin_reg, X_train, y_train, cv = 10).mean()\n",
    "print(\"Eğitim Doğruluk Ortalaması:\", egitim_dogruluk)\n"
   ]
  },
  {
   "cell_type": "markdown",
   "metadata": {},
   "source": [
    "Test ve eğitim kümelerinin dogruluk ortalamaları birbirine yakın olduğundan modelimiz durağan ve aşırı uyum sorunu yok diyebiliriz."
   ]
  },
  {
   "cell_type": "markdown",
   "metadata": {},
   "source": [
    "### 6.Varsayımların Sağlanması Kontrolü"
   ]
  },
  {
   "cell_type": "markdown",
   "metadata": {},
   "source": [
    "Lİneer Regresyon Analizinde OLS fonksiyonu için bazı varsayımlar vardır. Modelimizin doğruluğundan, tahminlerimizin keskinliğinden emin olabilmek için bu varsayımların sağlanması gerekmektedir. Sağlanmadıkları durumlar için sebepleri araştırılıp giderilmeye çalışılmalıdır.Varsayımlar şunlardır:  \n",
    "1:Katsayılarla modelin ilişkisi doğrusal olmalıdır.  \n",
    "2:Hata teriminin ortalaması sıfır olmalıdır.  \n",
    "3:Homoscedasticity sağlanmalıdır.   \n",
    "4:Düşük çoklu doğrusallık/low multicollinearity olmalıdır.  \n",
    "5:Hata terimleri birbiriyle ilişkisiz olmalıdır.  \n",
    "6:Bağımsız değişkenler hatalarla korele olmamalıdır.(Exogeneity)  \n",
    "7:Hatalar normal dağılımlı olmalıdır.  \n"
   ]
  },
  {
   "cell_type": "markdown",
   "metadata": {},
   "source": [
    "**1:** Katsayılarla modelin ilişkisi doğrusal olmalıdır.  \n",
    "Modelimizin denklemine baktığımızda  **log_Price= -251.7971 + 0.1228* Year +1.4014* log_Power-0.2877* Transmission_Manual**  varsayımın sağlandığı görülüyor."
   ]
  },
  {
   "cell_type": "markdown",
   "metadata": {},
   "source": [
    "**2:** Hata teriminin ortalaması sıfır olmalıdır.  \n",
    "Aşağıda hesapladığımızda 0'a çok yakın bir değer çıktığı görülüyor."
   ]
  },
  {
   "cell_type": "code",
   "execution_count": 57,
   "metadata": {},
   "outputs": [
    {
     "name": "stdout",
     "output_type": "stream",
     "text": [
      "Hata teriminin ortalaması=-0.0076607528\n"
     ]
    }
   ],
   "source": [
    "residuals=y_test-result5_predicted\n",
    "print(\"Hata teriminin ortalaması={:.10f}\".format(residuals.mean()))"
   ]
  },
  {
   "cell_type": "markdown",
   "metadata": {},
   "source": [
    "**3:** Homoscedasticity sağlanmalıdır.  \n",
    "Bu varsayım hatanın eşvaryanslı olması gerektiğini söyler.Grafiklerle ön bakış yapıp testler ile kontrol edelim."
   ]
  },
  {
   "cell_type": "code",
   "execution_count": 58,
   "metadata": {
    "scrolled": false
   },
   "outputs": [
    {
     "data": {
      "image/png": "[encoded data removed]",
      "text/plain": [
       "<Figure size 576x360 with 1 Axes>"
      ]
     },
     "metadata": {
      "needs_background": "light"
     },
     "output_type": "display_data"
    }
   ],
   "source": [
    "plt.figure(figsize=(8,5))\n",
    "plt.scatter(result5_predicted,residuals)\n",
    "plt.xlabel('Predicted Values')\n",
    "plt.ylabel('Residuals')\n",
    "plt.title(\"Residuals & Predicted Values\")\n",
    "plt.show()"
   ]
  },
  {
   "cell_type": "markdown",
   "metadata": {},
   "source": [
    "Hata ve tahmin edilen değerler grafiğine baktığımızda çok aşırı olmasa da U'ya benzer bir ilişki görülebilir.Bu bize Heteroskedasticity olduğunu düşündürüyor. Testler aracılığıyla bilgimizi kesinleştirelim. Yapabileceğimiz testlerden biri Levene Testi. Bu testin Null Hipotezi Eşvaryans olduğu şeklinde."
   ]
  },
  {
   "cell_type": "code",
   "execution_count": 59,
   "metadata": {},
   "outputs": [
    {
     "name": "stdout",
     "output_type": "stream",
     "text": [
      "Levene test değeri   : 542.199 ve p değeri : 0.000000000000000000000\n"
     ]
    }
   ],
   "source": [
    "lev_test=levene(result5_predicted, residuals)\n",
    "print(\"Levene test değeri   : {0:3g} ve p değeri : {1:.21f}\".format(lev_test[0], lev_test[1]))"
   ]
  },
  {
   "cell_type": "markdown",
   "metadata": {},
   "source": [
    "Testin sonucuna göre null hipotezi reddediyoruz yani hatalarımız eşvaryanslı değil. Heteroskedastisity sorunumuz var.\n",
    "Bunun sebepleri aşağıdakiler olabilir:  \n",
    "* Hedef ile ilgili bilgi içeren önemli bir değişkeni modele katmamış olabiliriz.\n",
    "* Veri setimizin range'i yani aralığı çok fazla olabilir. Bizim durumumuzda veri setimiz bu şarta uyuyor. Bundan kaynaklanıyor olabilir.\n",
    "* Veri toplama aşamasındaki yanlışlıklar.Bu konuda bilgimiz yok \n",
    "* Aykırı değerler. Bu da durumumuza uyuyor dönüşüm uygulasak bile hala aykırı sayılabilcek değerlerimiz var.  \n",
    "Bu duruma rağmen tahmin katsayılarımız hala geçerlidir. Bunu unutmayalım."
   ]
  },
  {
   "cell_type": "markdown",
   "metadata": {},
   "source": [
    "**4:** Düşük çoklu doğrusallık/low multicollinearity olmalıdır.  \n",
    "Model kurmaya başlarken bu şartı sağlamak için birbiriyle korelasyonu yüksek olan değişkenleri dahil etmedik. Seçtiğimiz modelin bağımsız değişkenleri içinde birbiriyle yüksek korelasyonu olan bulunmuyor."
   ]
  },
  {
   "cell_type": "markdown",
   "metadata": {},
   "source": [
    "**5:** Hata terimleri birbiriyle ilişkisiz olmalıdır.  \n",
    "Hataların grafiğini çizdirerek ya da autocorrelation fonksiyonunu kullanarak bunu anlayabiliriz."
   ]
  },
  {
   "cell_type": "code",
   "execution_count": 60,
   "metadata": {},
   "outputs": [
    {
     "data": {
      "image/png": "[encoded data removed]",
      "text/plain": [
       "<Figure size 576x360 with 1 Axes>"
      ]
     },
     "metadata": {
      "needs_background": "light"
     },
     "output_type": "display_data"
    }
   ],
   "source": [
    "acf_data = acf(residuals)\n",
    "plt.figure(figsize=(8,5))\n",
    "plt.plot(acf_data[1:])\n",
    "plt.title(\"Autocorrelation Graphic\")\n",
    "plt.show()\n"
   ]
  },
  {
   "cell_type": "markdown",
   "metadata": {},
   "source": [
    "Modelimizin hataları arasındaki otokorelasyon gerçekten çok düşüktür (-0,06 ile 0,05 arasında)."
   ]
  },
  {
   "cell_type": "markdown",
   "metadata": {},
   "source": [
    "**6:** Bağımsız değişkenler hatalarla korele olmamalıdır.(Exogeneity)  \n",
    "Bu şart sağlanmadığında tahminlerimiz yanlı olacağından keskin sonuçlar için bu şartı sağlamalıyız. Bunu anlamanın bir yolu da modelimizin çıktısındaki **Durbin-Watson** Değerine bakmakır. Bu değer **2.0** civarlarında ise sorunumuz yok demektir. Ama +1/-1 durumunda sorun olduğunu düşünmeliyiz. Bizim modelimiz için bu değer **2.017** olduğundan varsayım sağlanıyor diyebiliriz."
   ]
  },
  {
   "cell_type": "markdown",
   "metadata": {},
   "source": [
    "**7:** Hatalar normal dağılımlı olmalıdır.  \n"
   ]
  },
  {
   "cell_type": "code",
   "execution_count": 61,
   "metadata": {
    "scrolled": true
   },
   "outputs": [
    {
     "data": {
      "image/png": "[encoded data removed]",
      "text/plain": [
       "<Figure size 576x360 with 1 Axes>"
      ]
     },
     "metadata": {
      "needs_background": "light"
     },
     "output_type": "display_data"
    }
   ],
   "source": [
    "plt.figure(figsize=(8,5))\n",
    "plt.hist(residuals, bins=10)\n",
    "plt.title(\"Distribution of Errors\")\n",
    "plt.show()"
   ]
  },
  {
   "cell_type": "code",
   "execution_count": 62,
   "metadata": {},
   "outputs": [
    {
     "name": "stdout",
     "output_type": "stream",
     "text": [
      "Jarque-Bera test değeri : 94.73653259746003 ve p değeri : 0.0\n"
     ]
    }
   ],
   "source": [
    "jb_test = jarque_bera(residuals)\n",
    "print(\"Jarque-Bera test değeri : {0} ve p değeri : {1}\".format(jb_test[0], jb_test[1]))"
   ]
  },
  {
   "cell_type": "markdown",
   "metadata": {},
   "source": [
    "Üstteki testin null hipotezi hataların normal dağıldığı şeklinde. Sonuca göre hatalarımız normal dağılmıyor demektir.Modelimiz varsayımlardan **3  numaralı ve  7 numaralı** olanları sağlamıyor."
   ]
  },
  {
   "cell_type": "markdown",
   "metadata": {},
   "source": [
    "### 7.Sonuç"
   ]
  },
  {
   "cell_type": "markdown",
   "metadata": {},
   "source": [
    "Kullanılmış araba veri kümemizi kullanarak fiyat tahmini yapmamızı sağlayacak uygun modeli bulmaya çalıştık. Oluşturduğumuz alternatif modeller içinde en az değişkenle kendi açımızdan kabul edilebilir bir varyansı açıklayan 5. modeli seçtik. Modelimiz kabul edilebilir miktarda başarılı olsa da bazı açılardan hala iyileştirilmesi gerekiyor. İlerleyen zamanlarda modelin geliştirilmesi ya da daha iyi bir modelin bulunması için eklemeler yapılabilir."
   ]
  },
  {
   "cell_type": "code",
   "execution_count": null,
   "metadata": {},
   "outputs": [],
   "source": []
  }
 ],
 "metadata": {
  "kernelspec": {
   "display_name": "Python 3",
   "language": "python",
   "name": "python3"
  },
  "language_info": {
   "codemirror_mode": {
    "name": "ipython",
    "version": 3
   },
   "file_extension": ".py",
   "mimetype": "text/x-python",
   "name": "python",
   "nbconvert_exporter": "python",
   "pygments_lexer": "ipython3",
   "version": "3.7.2"
  }
 },
 "nbformat": 4,
 "nbformat_minor": 2
}
