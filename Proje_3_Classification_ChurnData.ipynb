{
 "cells": [
  {
   "cell_type": "markdown",
   "metadata": {},
   "source": [
    "### GİRİŞ"
   ]
  },
  {
   "cell_type": "markdown",
   "metadata": {},
   "source": [
    "Bu Projemizde Bir telekom şirketine ait verilerden müşterilerin ayrılıp ayrılmayacaklarını tahmin etmeye çalışacağız. İlgili kütüphanelerin ve veri kümemizin yüklenmesi ile başlıyoruz."
   ]
  },
  {
   "cell_type": "markdown",
   "metadata": {},
   "source": [
    "### VERİ KEŞFİ"
   ]
  },
  {
   "cell_type": "code",
   "execution_count": 95,
   "metadata": {},
   "outputs": [],
   "source": [
    "import pandas as pd\n",
    "import numpy as np\n",
    "import matplotlib.pyplot as plt\n",
    "import scipy.stats as sts\n",
    "import statsmodels.api as sm\n",
    "import seaborn as sns\n",
    "from sklearn.linear_model import LogisticRegression\n",
    "from sklearn.model_selection import cross_val_score, train_test_split\n",
    "from sklearn import model_selection\n",
    "from sklearn.metrics import accuracy_score, recall_score, precision_score, f1_score, log_loss, confusion_matrix\n",
    "from sklearn.metrics import classification_report, precision_recall_fscore_support, roc_curve, roc_auc_score\n",
    "from sklearn.utils import resample\n",
    "from imblearn.over_sampling import SMOTE, ADASYN\n",
    "import warnings\n",
    "\n",
    "warnings.filterwarnings('ignore')\n",
    "%matplotlib inline\n",
    "pd.options.display.float_format = '{:.3f}'.format"
   ]
  },
  {
   "cell_type": "code",
   "execution_count": 96,
   "metadata": {},
   "outputs": [],
   "source": [
    "df = pd.read_excel('Churn.xls', index_col=None)\n",
    "df.to_csv('churn.csv')"
   ]
  },
  {
   "cell_type": "code",
   "execution_count": 97,
   "metadata": {
    "scrolled": true
   },
   "outputs": [
    {
     "data": {
      "text/html": [
       "<div>\n",
       "<style scoped>\n",
       "    .dataframe tbody tr th:only-of-type {\n",
       "        vertical-align: middle;\n",
       "    }\n",
       "\n",
       "    .dataframe tbody tr th {\n",
       "        vertical-align: top;\n",
       "    }\n",
       "\n",
       "    .dataframe thead th {\n",
       "        text-align: right;\n",
       "    }\n",
       "</style>\n",
       "<table border=\"1\" class=\"dataframe\">\n",
       "  <thead>\n",
       "    <tr style=\"text-align: right;\">\n",
       "      <th></th>\n",
       "      <th>Account Length</th>\n",
       "      <th>VMail Message</th>\n",
       "      <th>Day Mins</th>\n",
       "      <th>Eve Mins</th>\n",
       "      <th>Night Mins</th>\n",
       "      <th>Intl Mins</th>\n",
       "      <th>CustServ Calls</th>\n",
       "      <th>Churn</th>\n",
       "      <th>Int'l Plan</th>\n",
       "      <th>VMail Plan</th>\n",
       "      <th>...</th>\n",
       "      <th>Day Charge</th>\n",
       "      <th>Eve Calls</th>\n",
       "      <th>Eve Charge</th>\n",
       "      <th>Night Calls</th>\n",
       "      <th>Night Charge</th>\n",
       "      <th>Intl Calls</th>\n",
       "      <th>Intl Charge</th>\n",
       "      <th>State</th>\n",
       "      <th>Area Code</th>\n",
       "      <th>Phone</th>\n",
       "    </tr>\n",
       "  </thead>\n",
       "  <tbody>\n",
       "    <tr>\n",
       "      <th>0</th>\n",
       "      <td>128</td>\n",
       "      <td>25</td>\n",
       "      <td>265.100</td>\n",
       "      <td>197.400</td>\n",
       "      <td>244.700</td>\n",
       "      <td>10.000</td>\n",
       "      <td>1</td>\n",
       "      <td>0</td>\n",
       "      <td>0</td>\n",
       "      <td>1</td>\n",
       "      <td>...</td>\n",
       "      <td>45.070</td>\n",
       "      <td>99</td>\n",
       "      <td>16.780</td>\n",
       "      <td>91</td>\n",
       "      <td>11.010</td>\n",
       "      <td>3</td>\n",
       "      <td>2.700</td>\n",
       "      <td>KS</td>\n",
       "      <td>415</td>\n",
       "      <td>382-4657</td>\n",
       "    </tr>\n",
       "    <tr>\n",
       "      <th>1</th>\n",
       "      <td>107</td>\n",
       "      <td>26</td>\n",
       "      <td>161.600</td>\n",
       "      <td>195.500</td>\n",
       "      <td>254.400</td>\n",
       "      <td>13.700</td>\n",
       "      <td>1</td>\n",
       "      <td>0</td>\n",
       "      <td>0</td>\n",
       "      <td>1</td>\n",
       "      <td>...</td>\n",
       "      <td>27.470</td>\n",
       "      <td>103</td>\n",
       "      <td>16.620</td>\n",
       "      <td>103</td>\n",
       "      <td>11.450</td>\n",
       "      <td>3</td>\n",
       "      <td>3.700</td>\n",
       "      <td>OH</td>\n",
       "      <td>415</td>\n",
       "      <td>371-7191</td>\n",
       "    </tr>\n",
       "    <tr>\n",
       "      <th>2</th>\n",
       "      <td>137</td>\n",
       "      <td>0</td>\n",
       "      <td>243.400</td>\n",
       "      <td>121.200</td>\n",
       "      <td>162.600</td>\n",
       "      <td>12.200</td>\n",
       "      <td>0</td>\n",
       "      <td>0</td>\n",
       "      <td>0</td>\n",
       "      <td>0</td>\n",
       "      <td>...</td>\n",
       "      <td>41.380</td>\n",
       "      <td>110</td>\n",
       "      <td>10.300</td>\n",
       "      <td>104</td>\n",
       "      <td>7.320</td>\n",
       "      <td>5</td>\n",
       "      <td>3.290</td>\n",
       "      <td>NJ</td>\n",
       "      <td>415</td>\n",
       "      <td>358-1921</td>\n",
       "    </tr>\n",
       "    <tr>\n",
       "      <th>3</th>\n",
       "      <td>84</td>\n",
       "      <td>0</td>\n",
       "      <td>299.400</td>\n",
       "      <td>61.900</td>\n",
       "      <td>196.900</td>\n",
       "      <td>6.600</td>\n",
       "      <td>2</td>\n",
       "      <td>0</td>\n",
       "      <td>1</td>\n",
       "      <td>0</td>\n",
       "      <td>...</td>\n",
       "      <td>50.900</td>\n",
       "      <td>88</td>\n",
       "      <td>5.260</td>\n",
       "      <td>89</td>\n",
       "      <td>8.860</td>\n",
       "      <td>7</td>\n",
       "      <td>1.780</td>\n",
       "      <td>OH</td>\n",
       "      <td>408</td>\n",
       "      <td>375-9999</td>\n",
       "    </tr>\n",
       "    <tr>\n",
       "      <th>4</th>\n",
       "      <td>75</td>\n",
       "      <td>0</td>\n",
       "      <td>166.700</td>\n",
       "      <td>148.300</td>\n",
       "      <td>186.900</td>\n",
       "      <td>10.100</td>\n",
       "      <td>3</td>\n",
       "      <td>0</td>\n",
       "      <td>1</td>\n",
       "      <td>0</td>\n",
       "      <td>...</td>\n",
       "      <td>28.340</td>\n",
       "      <td>122</td>\n",
       "      <td>12.610</td>\n",
       "      <td>121</td>\n",
       "      <td>8.410</td>\n",
       "      <td>3</td>\n",
       "      <td>2.730</td>\n",
       "      <td>OK</td>\n",
       "      <td>415</td>\n",
       "      <td>330-6626</td>\n",
       "    </tr>\n",
       "  </tbody>\n",
       "</table>\n",
       "<p>5 rows × 21 columns</p>\n",
       "</div>"
      ],
      "text/plain": [
       "   Account Length  VMail Message  Day Mins  Eve Mins  Night Mins  Intl Mins  \\\n",
       "0             128             25   265.100   197.400     244.700     10.000   \n",
       "1             107             26   161.600   195.500     254.400     13.700   \n",
       "2             137              0   243.400   121.200     162.600     12.200   \n",
       "3              84              0   299.400    61.900     196.900      6.600   \n",
       "4              75              0   166.700   148.300     186.900     10.100   \n",
       "\n",
       "   CustServ Calls  Churn  Int'l Plan  VMail Plan  ...  Day Charge  Eve Calls  \\\n",
       "0               1      0           0           1  ...      45.070         99   \n",
       "1               1      0           0           1  ...      27.470        103   \n",
       "2               0      0           0           0  ...      41.380        110   \n",
       "3               2      0           1           0  ...      50.900         88   \n",
       "4               3      0           1           0  ...      28.340        122   \n",
       "\n",
       "   Eve Charge  Night Calls  Night Charge  Intl Calls  Intl Charge  State  \\\n",
       "0      16.780           91        11.010           3        2.700     KS   \n",
       "1      16.620          103        11.450           3        3.700     OH   \n",
       "2      10.300          104         7.320           5        3.290     NJ   \n",
       "3       5.260           89         8.860           7        1.780     OH   \n",
       "4      12.610          121         8.410           3        2.730     OK   \n",
       "\n",
       "  Area Code     Phone  \n",
       "0       415  382-4657  \n",
       "1       415  371-7191  \n",
       "2       415  358-1921  \n",
       "3       408  375-9999  \n",
       "4       415  330-6626  \n",
       "\n",
       "[5 rows x 21 columns]"
      ]
     },
     "execution_count": 97,
     "metadata": {},
     "output_type": "execute_result"
    }
   ],
   "source": [
    "df.head()"
   ]
  },
  {
   "cell_type": "code",
   "execution_count": 98,
   "metadata": {},
   "outputs": [
    {
     "name": "stdout",
     "output_type": "stream",
     "text": [
      "<class 'pandas.core.frame.DataFrame'>\n",
      "RangeIndex: 3333 entries, 0 to 3332\n",
      "Data columns (total 21 columns):\n",
      "Account Length    3333 non-null int64\n",
      "VMail Message     3333 non-null int64\n",
      "Day Mins          3333 non-null float64\n",
      "Eve Mins          3333 non-null float64\n",
      "Night Mins        3333 non-null float64\n",
      "Intl Mins         3333 non-null float64\n",
      "CustServ Calls    3333 non-null int64\n",
      "Churn             3333 non-null int64\n",
      "Int'l Plan        3333 non-null int64\n",
      "VMail Plan        3333 non-null int64\n",
      "Day Calls         3333 non-null int64\n",
      "Day Charge        3333 non-null float64\n",
      "Eve Calls         3333 non-null int64\n",
      "Eve Charge        3333 non-null float64\n",
      "Night Calls       3333 non-null int64\n",
      "Night Charge      3333 non-null float64\n",
      "Intl Calls        3333 non-null int64\n",
      "Intl Charge       3333 non-null float64\n",
      "State             3333 non-null object\n",
      "Area Code         3333 non-null int64\n",
      "Phone             3333 non-null object\n",
      "dtypes: float64(8), int64(11), object(2)\n",
      "memory usage: 546.9+ KB\n"
     ]
    }
   ],
   "source": [
    "df.info()"
   ]
  },
  {
   "cell_type": "code",
   "execution_count": 99,
   "metadata": {},
   "outputs": [
    {
     "name": "stdout",
     "output_type": "stream",
     "text": [
      "Account Length tekil değer sayısı= 212\n",
      "VMail Message tekil değer sayısı= 46\n",
      "Day Mins tekil değer sayısı= 1667\n",
      "Eve Mins tekil değer sayısı= 1611\n",
      "Night Mins tekil değer sayısı= 1591\n",
      "Intl Mins tekil değer sayısı= 162\n",
      "CustServ Calls tekil değer sayısı= 10\n",
      "Churn tekil değer sayısı= 2\n",
      "Int'l Plan tekil değer sayısı= 2\n",
      "VMail Plan tekil değer sayısı= 2\n",
      "Day Calls tekil değer sayısı= 119\n",
      "Day Charge tekil değer sayısı= 1667\n",
      "Eve Calls tekil değer sayısı= 123\n",
      "Eve Charge tekil değer sayısı= 1440\n",
      "Night Calls tekil değer sayısı= 120\n",
      "Night Charge tekil değer sayısı= 933\n",
      "Intl Calls tekil değer sayısı= 21\n",
      "Intl Charge tekil değer sayısı= 162\n",
      "State tekil değer sayısı= 51\n",
      "Area Code tekil değer sayısı= 3\n",
      "Phone tekil değer sayısı= 3333\n"
     ]
    }
   ],
   "source": [
    "for i in df.columns:\n",
    "    print(i,\"tekil değer sayısı=\", df[i].nunique())"
   ]
  },
  {
   "cell_type": "code",
   "execution_count": 100,
   "metadata": {},
   "outputs": [
    {
     "data": {
      "text/plain": [
       "415    1655\n",
       "510     840\n",
       "408     838\n",
       "Name: Area Code, dtype: int64"
      ]
     },
     "execution_count": 100,
     "metadata": {},
     "output_type": "execute_result"
    }
   ],
   "source": [
    "df[\"Area Code\"].value_counts()"
   ]
  },
  {
   "cell_type": "markdown",
   "metadata": {},
   "source": [
    "Üstte her bir değişkenimizin tekil değer sayısına baktık. 2 tekil değeri olan değişkenlerimiz aslında kategorik değişkenler. Aldıkları değer 0 ve 1 ile ifade edildklerinden türleri  tamsayı görünüyor. Bunlar **Churn,Intl Plan,VMail Plan** değişkenleri **Area Code** ise 3 farklı değer içeriyor her bir kod bir yeri belirttiğinden  kullanacaksak onu da kategorik olarak düşünmeliyiz. Diğer bir konu da **Phone** ve **State** telefon numaraları gözlem sayısı kadar olduğundan bize ekstra bilgi vermez. Eyalet bilgisi de tüm eyaletleri kapsıyor ve **Area Code**  ile ikisi için de hedef ile alakalı bir ilişki düşünemediğimden bu üçünü kullanmadan, silerek devam edeceğiz."
   ]
  },
  {
   "cell_type": "code",
   "execution_count": 101,
   "metadata": {},
   "outputs": [],
   "source": [
    "del_columns=[\"State\",\"Phone\",\"Area Code\"] \n",
    "df=df.drop(del_columns,axis=1)"
   ]
  },
  {
   "cell_type": "markdown",
   "metadata": {},
   "source": [
    "Değişkenlerin ikili olarak ilişkilerini anlamaya çalışalım. Aşağıda korelasyon matrisi sürekli değişkenlerin aralarındaki ilişkiyi gösteriyor."
   ]
  },
  {
   "cell_type": "code",
   "execution_count": 102,
   "metadata": {},
   "outputs": [],
   "source": [
    "#df[\"Churn\"]=df[\"Churn\"].replace({1:'pos',0:'neg'})\n",
    "df[\"Int'l Plan\"]=df[\"Int'l Plan\"].replace({1:'pos',0:'neg'})\n",
    "df[\"VMail Plan\"]=df[\"VMail Plan\"].replace({1:'pos',0:'neg'})"
   ]
  },
  {
   "cell_type": "code",
   "execution_count": 103,
   "metadata": {
    "scrolled": true
   },
   "outputs": [
    {
     "data": {
      "text/plain": [
       "<matplotlib.axes._subplots.AxesSubplot at 0x216f4925ac8>"
      ]
     },
     "execution_count": 103,
     "metadata": {},
     "output_type": "execute_result"
    },
    {
     "data": {
      "image/png": "[encoded data removed]",
      "text/plain": [
       "<Figure size 432x288 with 2 Axes>"
      ]
     },
     "metadata": {
      "needs_background": "light"
     },
     "output_type": "display_data"
    }
   ],
   "source": [
    "sns.heatmap(df.corr())\n"
   ]
  },
  {
   "cell_type": "markdown",
   "metadata": {},
   "source": [
    "Kategorik olan hedef değişkenimizin de tabloya şu an için dahil olduğunu unutmayalım. Tabloda birebir aynı sayılacak ilişkide değişken çifteleri var bunları not alıp modelimize aynı anda dahil olmalarını engellemeliyiz.Bu çiftler:  \n",
    "* VMail Message-VMail Plan \n",
    "* Day Mins-Day Charge\n",
    "* Eve Mins-Eve Charge\n",
    "* Night Mins-Night Charge\n",
    "* Intl Mins-Intl Charge  \n",
    "Tabloda kayda değer başka bilgi görülmüyor.Şimdi de hedef değişkenimiz kategorik olduğundan bar grafiklerle sürekli değişkenlerle ilişkilerine bakıp işimize yarayacak olanları anlamaya çalışalım."
   ]
  },
  {
   "cell_type": "code",
   "execution_count": 105,
   "metadata": {},
   "outputs": [
    {
     "data": {
      "image/png": "[encoded data removed]",
      "text/plain": [
       "<Figure size 3600x3600 with 15 Axes>"
      ]
     },
     "metadata": {
      "needs_background": "light"
     },
     "output_type": "display_data"
    }
   ],
   "source": [
    "columns=['Account Length', 'VMail Message', 'Day Mins', 'Eve Mins', 'Night Mins',\n",
    "       'Intl Mins', 'CustServ Calls', \n",
    "       'Day Calls', 'Day Charge', 'Eve Calls', 'Eve Charge', 'Night Calls',\n",
    "       'Night Charge', 'Intl Calls', 'Intl Charge']\n",
    "title_font = {'family': 'arial', 'color': 'black','weight': 'bold','size': 50 }\n",
    "\n",
    "plt.figure(figsize=(50,50))\n",
    "for i,j in zip(columns, range(1,19)):\n",
    "        plt.subplot(4,5,j)\n",
    "        sns.barplot(df['Churn'],df[i])\n",
    "        plt.title(i+' '+'&'+ 'Churn', fontdict = title_font)\n",
    "plt.tight_layout()\n",
    "plt.show()"
   ]
  },
  {
   "cell_type": "markdown",
   "metadata": {},
   "source": [
    "Garfikleri incelediğimizde **Churn** aldığı farklı değerlere göre değişkenlik gösteren değişkenler:**VMail Message,Day Mins,Eve Mins,Intl Mins,CustServ Calls,Day Charge,Eve Charge,Intl Calls,Intl Charge** olarak görünüyor. Şimdi t-testi aracılığıyla bu değişkenlerden hangisinin gösterdiği farklılık istatistiksel olarak anlamlı imiş anlayalım."
   ]
  },
  {
   "cell_type": "code",
   "execution_count": 106,
   "metadata": {},
   "outputs": [
    {
     "name": "stdout",
     "output_type": "stream",
     "text": [
      "Hedef değişkenin anlaşılmasında anlamlı olabilcek değişkenler:\n",
      " ['VMail Message', 'Day Mins', 'Eve Mins', 'Night Mins', 'Intl Mins', 'CustServ Calls', 'Day Charge', 'Eve Charge', 'Night Charge', 'Intl Calls', 'Intl Charge']\n"
     ]
    }
   ],
   "source": [
    "val=[]\n",
    "for i,j in zip(columns, range(1,19)):\n",
    "        x= df[df['Churn']==0][i]\n",
    "        y = df[df['Churn']==1][i]\n",
    "        test=sts.ttest_ind(x,y) \n",
    "        if test[1]< 0.05:\n",
    "            #print(i+\" anlamlı bir degisken olabilir.\")\n",
    "            val.append(i)\n",
    "print(\"Hedef değişkenin anlaşılmasında anlamlı olabilcek değişkenler:\\n\",val)    "
   ]
  },
  {
   "cell_type": "markdown",
   "metadata": {},
   "source": [
    "t-testi ile  sürekli değişkenlerden hedef için istatistiksel olarak anlamlı olanları yukarda anladık.Şimdi de kategori değişkenler için benzerini yapalım. Çapraz tablo ile değerlere bakalım.Sonra da ki-kare testi ile dğerlerin farklılıklarının anlamlı olup olmadığını öğrenelim."
   ]
  },
  {
   "cell_type": "code",
   "execution_count": 107,
   "metadata": {},
   "outputs": [
    {
     "name": "stdout",
     "output_type": "stream",
     "text": [
      "Int'l Plan   neg  pos\n",
      "Churn                \n",
      "0           2664  186\n",
      "1            346  137 \n",
      "\n",
      "tablosu için ki-kare değerleri: Power_divergenceResult(statistic=5391.844884488449, pvalue=0.0) \n",
      "\n",
      "VMail Plan   neg  pos\n",
      "Churn                \n",
      "0           2008  842\n",
      "1            403   80 \n",
      "\n",
      "tablosu için ki-kare değerleri: Power_divergenceResult(statistic=2559.393639363936, pvalue=0.0) \n",
      "\n"
     ]
    }
   ],
   "source": [
    "for i in [\"Int'l Plan\",\"VMail Plan\"]:\n",
    "    x= pd.crosstab(df['Churn'],df[i])\n",
    "    print(x,\"\\n\\ntablosu için ki-kare değerleri:\",sts.chisquare(x, axis=None),\"\\n\")"
   ]
  },
  {
   "cell_type": "markdown",
   "metadata": {},
   "source": [
    "Üstteki sonuçlara göre iki değişken için de farklılıklar anlamlı çıktı.Modelimizi inşaa ederken anlamlı çıkan değişkenleri dahil edeceğiz. Kendi içinde korelasyonu yüksek olanlardan çoklu doğrusallık olmaması için birini dahil ederken diğerini dışarda tutacağız."
   ]
  },
  {
   "cell_type": "markdown",
   "metadata": {},
   "source": [
    "### MODEL KURULUMU ve YORUMU"
   ]
  },
  {
   "cell_type": "code",
   "execution_count": 108,
   "metadata": {},
   "outputs": [],
   "source": [
    "X=df[['VMail Plan','Day Mins','Night Mins','Intl Mins','CustServ Calls',\"Int'l Plan\",'Eve Charge', 'Intl Calls']]\n",
    "y=df[\"Churn\"]"
   ]
  },
  {
   "cell_type": "code",
   "execution_count": 109,
   "metadata": {},
   "outputs": [
    {
     "name": "stdout",
     "output_type": "stream",
     "text": [
      "Modelin eğitim verisindeki doğruluğu : 0.86\n",
      "Modelin test verisindeki doğruluğu   : 0.85\n"
     ]
    }
   ],
   "source": [
    "\n",
    "X = pd.get_dummies(data=X, drop_first=True)\n",
    "X_eğitim, X_test, y_eğitim, y_test =  train_test_split(X, y, test_size=0.20, random_state=111)\n",
    "\n",
    "log_reg = LogisticRegression()\n",
    "log_reg.fit(X_eğitim, y_eğitim)\n",
    "\n",
    "egitim_dogruluk = log_reg.score(X_eğitim, y_eğitim)\n",
    "test_dogruluk = log_reg.score(X_test, y_test)\n",
    "print('Modelin eğitim verisindeki doğruluğu : {:.2f}'.format(egitim_dogruluk), \n",
    "      'Modelin test verisindeki doğruluğu   : {:.2f}'.format(test_dogruluk), sep='\\n')"
   ]
  },
  {
   "cell_type": "code",
   "execution_count": 110,
   "metadata": {},
   "outputs": [
    {
     "name": "stdout",
     "output_type": "stream",
     "text": [
      "Optimization terminated successfully.\n",
      "         Current function value: 0.324837\n",
      "         Iterations 7\n",
      "                           Logit Regression Results                           \n",
      "==============================================================================\n",
      "Dep. Variable:                  Churn   No. Observations:                 2666\n",
      "Model:                          Logit   Df Residuals:                     2657\n",
      "Method:                           MLE   Df Model:                            8\n",
      "Date:                Wed, 04 Dec 2019   Pseudo R-squ.:                  0.2183\n",
      "Time:                        21:05:45   Log-Likelihood:                -866.02\n",
      "converged:                       True   LL-Null:                       -1107.9\n",
      "Covariance Type:            nonrobust   LLR p-value:                 2.221e-99\n",
      "==================================================================================\n",
      "                     coef    std err          z      P>|z|      [0.025      0.975]\n",
      "----------------------------------------------------------------------------------\n",
      "const             -7.8214      0.575    -13.606      0.000      -8.948      -6.695\n",
      "Day Mins           0.0130      0.001     10.644      0.000       0.011       0.015\n",
      "Night Mins         0.0035      0.001      2.825      0.005       0.001       0.006\n",
      "Intl Mins          0.0792      0.023      3.476      0.001       0.035       0.124\n",
      "CustServ Calls     0.5103      0.044     11.625      0.000       0.424       0.596\n",
      "Eve Charge         0.0815      0.015      5.454      0.000       0.052       0.111\n",
      "Intl Calls        -0.1071      0.028     -3.790      0.000      -0.163      -0.052\n",
      "VMail Plan_pos    -0.9361      0.163     -5.731      0.000      -1.256      -0.616\n",
      "Int'l Plan_pos     2.1195      0.162     13.104      0.000       1.803       2.437\n",
      "==================================================================================\n"
     ]
    }
   ],
   "source": [
    "#statsmodel ile model inşaası\n",
    "X=df[['VMail Plan','Day Mins','Night Mins','Intl Mins','CustServ Calls',\"Int'l Plan\",'Eve Charge', 'Intl Calls']]\n",
    "y=df[\"Churn\"]\n",
    "\n",
    "X = pd.get_dummies(data=X, drop_first=True)\n",
    "X_eğitim_sm, X_test_sm, y_eğitim_sm, y_test_sm =  train_test_split(X, y, test_size=0.20, random_state=111)\n",
    "\n",
    "X_eğitim_sm=sm.add_constant(X_eğitim_sm)\n",
    "result=sm.Logit(y_eğitim_sm,X_eğitim_sm).fit()\n",
    "print(result.summary())"
   ]
  },
  {
   "cell_type": "markdown",
   "metadata": {},
   "source": [
    "Modelimizi ilk olarak Sci-kit learn sonra da statsmodel aracılığıyla kurduk.Statsmodel aracılığıyla kurduğumuz modelin özet tabosunu inceleyelim. Kullanılan tüm değişkenler istatistiksel olarak anlamlı görünüyor.Hedefi en çok etkileyen değişkenler sıra ile **Int'l Plan > VMail Plan > CustServ Calls > Intl Calls > Eve Charge > Intl Mins >  Day Mins > Night Mins** şeklinde. Katsayısı Negatif olanlar tabiki hedefimiz ile ters bir ilişkide.\n"
   ]
  },
  {
   "cell_type": "markdown",
   "metadata": {},
   "source": [
    "### MODELİN BAŞARISININ DEĞERLENDİRİLMESİ"
   ]
  },
  {
   "cell_type": "markdown",
   "metadata": {},
   "source": [
    "#### a. Hata Matrisi "
   ]
  },
  {
   "cell_type": "code",
   "execution_count": 111,
   "metadata": {},
   "outputs": [
    {
     "name": "stdout",
     "output_type": "stream",
     "text": [
      "Hata Matrisi (Eğitim verileri)\n",
      "------------------------------\n",
      "[[2226   51]\n",
      " [ 315   74]]\n",
      "Hata Matrisi (Test verileri)\n",
      "------------------------------\n",
      "[[555  18]\n",
      " [ 81  13]]\n"
     ]
    }
   ],
   "source": [
    "tahmin_eğitim=log_reg.predict(X_eğitim)\n",
    "tahmin_test=log_reg.predict(X_test)\n",
    "\n",
    "hata_matrisi_eğitim = confusion_matrix(y_eğitim, tahmin_eğitim)\n",
    "hata_matrisi_test = confusion_matrix(y_test, tahmin_test)\n",
    "\n",
    "print(\"Hata Matrisi (Eğitim verileri)\", \"-\"*30, hata_matrisi_eğitim, sep=\"\\n\")\n",
    "print(\"Hata Matrisi (Test verileri)\", \"-\"*30, hata_matrisi_test, sep=\"\\n\")"
   ]
  },
  {
   "cell_type": "markdown",
   "metadata": {},
   "source": [
    "#### b. Farklı Metriklerin Sonuçları"
   ]
  },
  {
   "cell_type": "code",
   "execution_count": 112,
   "metadata": {
    "scrolled": true
   },
   "outputs": [
    {
     "name": "stdout",
     "output_type": "stream",
     "text": [
      "Modelden alınan doğruluk değeri :  0.8515742128935532\n",
      "Recall_score() değeri        :  0.13829787234042554\n",
      "precision_score() değeri        :  0.41935483870967744\n",
      "accuracy_score() değeri         :  0.8515742128935532\n",
      "f1_score() değeri     :  0.20800000000000002\n",
      "\n",
      "\n",
      "              precision    recall  f1-score   support\n",
      "\n",
      "           0       0.87      0.97      0.92       573\n",
      "           1       0.42      0.14      0.21        94\n",
      "\n",
      "    accuracy                           0.85       667\n",
      "   macro avg       0.65      0.55      0.56       667\n",
      "weighted avg       0.81      0.85      0.82       667\n",
      "\n",
      "\n",
      "\n"
     ]
    }
   ],
   "source": [
    "print(\"Modelden alınan doğruluk değeri : \",  log_reg.score(X_test, y_test))\n",
    "print(\"Recall_score() değeri        : \",  recall_score(y_test, tahmin_test))\n",
    "print(\"precision_score() değeri        : \",  precision_score(y_test, tahmin_test))\n",
    "print(\"accuracy_score() değeri         : \",  accuracy_score(y_test, tahmin_test))\n",
    "print(\"f1_score() değeri     : \",  f1_score(y_test, tahmin_test))\n",
    "print('\\n')\n",
    "print(classification_report(y_test,tahmin_test) )\n",
    "print('\\n')\n"
   ]
  },
  {
   "cell_type": "markdown",
   "metadata": {},
   "source": [
    "#### c. ROC Curve, AUC ve Logaritmik Kayıp"
   ]
  },
  {
   "cell_type": "code",
   "execution_count": 113,
   "metadata": {},
   "outputs": [
    {
     "data": {
      "image/png": "[encoded data removed]",
      "text/plain": [
       "<Figure size 432x288 with 1 Axes>"
      ]
     },
     "metadata": {
      "needs_background": "light"
     },
     "output_type": "display_data"
    },
    {
     "name": "stdout",
     "output_type": "stream",
     "text": [
      "AUC Değeri :  0.820986966692659\n",
      "Logartimik Kayıp (log-loss) :  0.33004516877382417\n",
      "Hata Oranı                  :  0.14842578710644683\n"
     ]
    }
   ],
   "source": [
    "tahmin_test_ihtimal = log_reg.predict_proba(X_test)[:,1]\n",
    "fpr, tpr, thresholds  = roc_curve(y_test, tahmin_test_ihtimal)\n",
    "\n",
    "#ROC Eğrisini çizdiriyoruz.\n",
    "plt.plot([0, 1], [0, 1], 'k--')\n",
    "plt.plot(fpr, tpr)\n",
    "plt.xlabel('False Positive Rate')\n",
    "plt.ylabel('True Positive Rate')\n",
    "plt.title('ROC Curve')\n",
    "plt.show()\n",
    "\n",
    "print('AUC Değeri : ', roc_auc_score(y_test, tahmin_test_ihtimal))\n",
    "print(\"Logartimik Kayıp (log-loss) : \" , log_loss(y_test, tahmin_test_ihtimal))\n",
    "print(\"Hata Oranı                  : \" , 1- accuracy_score(y_test, tahmin_test))"
   ]
  },
  {
   "cell_type": "markdown",
   "metadata": {},
   "source": [
    "### VERİ KÜMESİNİN DENGELENMESİ"
   ]
  },
  {
   "cell_type": "code",
   "execution_count": 114,
   "metadata": {},
   "outputs": [
    {
     "data": {
      "text/plain": [
       "0    2850\n",
       "1     483\n",
       "Name: Churn, dtype: int64"
      ]
     },
     "execution_count": 114,
     "metadata": {},
     "output_type": "execute_result"
    }
   ],
   "source": [
    "df['Churn'].value_counts()"
   ]
  },
  {
   "cell_type": "markdown",
   "metadata": {},
   "source": [
    "Hedef değişkenimizin aldığı değerlerin sayısına bakınca dengesiz olduğu görülüyor. Bu bölümde çeşitli dengeleme yöntemlerini kullanıp modelimiz yeniden inşaa edip başarılarını kıyaslayacağız.Birden cok model kuracağımız için inşa ve sonucların gösterimini bir fonksiyon aracılığıyla yapabiliriz."
   ]
  },
  {
   "cell_type": "code",
   "execution_count": 115,
   "metadata": {},
   "outputs": [],
   "source": [
    "def model_result(X, y):\n",
    "    X_eğitim, X_test, y_eğitim, y_test =  train_test_split(X, y, test_size=0.20, random_state=111, stratify = y)\n",
    "    logreg_model = LogisticRegression()\n",
    "    logreg_model.fit(X_eğitim, y_eğitim)\n",
    "\n",
    "    tahmin_eğitim = logreg_model.predict(X_eğitim)\n",
    "    tahmin_test = logreg_model.predict(X_test)\n",
    "    \n",
    "    print(\"Modelin doğruluk değeri : \",  logreg_model.score(X_test, y_test))\n",
    "    hata_matrisi_eğitim = confusion_matrix(y_eğitim, tahmin_eğitim)\n",
    "    hata_matrisi_test = confusion_matrix(y_test, tahmin_test)\n",
    "    print(\"Hata Matrisi (Eğitim verileri)\", \"-\"*30, hata_matrisi_eğitim, sep=\"\\n\")\n",
    "    print(\"Hata Matrisi (Test verileri)\", \"-\"*30, hata_matrisi_test, sep=\"\\n\") \n",
    "    \n",
    "    \n",
    "    tahmin_test_ihtimal = log_reg.predict_proba(X_test)[:,1]\n",
    "    fpr, tpr, thresholds  = roc_curve(y_test, tahmin_test_ihtimal)\n",
    "\n",
    "    #ROC Eğrisini çizdiriyoruz.\n",
    "    plt.plot([0, 1], [0, 1], 'k--')\n",
    "    plt.plot(fpr, tpr)\n",
    "    plt.xlabel('False Positive Rate')\n",
    "    plt.ylabel('True Positive Rate')\n",
    "    plt.title('ROC Curve')\n",
    "    plt.show()\n",
    "\n",
    "    print('AUC Değeri : ', roc_auc_score(y_test, tahmin_test_ihtimal))\n",
    "    \n",
    "    return  None"
   ]
  },
  {
   "cell_type": "markdown",
   "metadata": {},
   "source": [
    "#### a. Az Olan Kategori Sınıfının Çok Olana Eşitlenmesi"
   ]
  },
  {
   "cell_type": "code",
   "execution_count": 116,
   "metadata": {},
   "outputs": [
    {
     "data": {
      "text/plain": [
       "1    2850\n",
       "0    2850\n",
       "Name: Churn, dtype: int64"
      ]
     },
     "execution_count": 116,
     "metadata": {},
     "output_type": "execute_result"
    }
   ],
   "source": [
    "data_majority = df[df['Churn']==0]\n",
    "data_minority = df[df['Churn']==1]\n",
    " \n",
    "data_minority_upsampled = resample(data_minority,\n",
    "replace=True,\n",
    "n_samples=len(data_majority), \n",
    "random_state=1) \n",
    "\n",
    "data_upsampled = pd.concat([data_majority, data_minority_upsampled])\n",
    " \n",
    "data_upsampled['Churn'].value_counts()"
   ]
  },
  {
   "cell_type": "code",
   "execution_count": 117,
   "metadata": {},
   "outputs": [],
   "source": [
    "X_upsampled=data_upsampled[['VMail Plan','Day Mins','Night Mins','Intl Mins','CustServ Calls',\"Int'l Plan\",'Eve Charge', 'Intl Calls']]\n",
    "y_upsampled=data_upsampled[\"Churn\"]\n",
    "X_upsampled = pd.get_dummies(data=X_upsampled, drop_first=True)"
   ]
  },
  {
   "cell_type": "markdown",
   "metadata": {},
   "source": [
    "#### b. Çok Olan Kategori Sınıfının Az Olana Eşitlenmesi"
   ]
  },
  {
   "cell_type": "code",
   "execution_count": 118,
   "metadata": {},
   "outputs": [
    {
     "data": {
      "text/plain": [
       "1    483\n",
       "0    483\n",
       "Name: Churn, dtype: int64"
      ]
     },
     "execution_count": 118,
     "metadata": {},
     "output_type": "execute_result"
    }
   ],
   "source": [
    "#burada çok veriyi az olana eşitliyorum.\n",
    " \n",
    "data_majority = df[df['Churn']==0]\n",
    "data_minority = df[df['Churn']==1]\n",
    " \n",
    "data_majority_downsampled = resample(data_majority,\n",
    "replace=True,\n",
    "n_samples=len(data_minority), \n",
    "random_state=1) \n",
    "\n",
    "data_downsampled = pd.concat([data_minority, data_majority_downsampled])\n",
    " \n",
    "data_downsampled['Churn'].value_counts()"
   ]
  },
  {
   "cell_type": "code",
   "execution_count": 119,
   "metadata": {},
   "outputs": [],
   "source": [
    "\n",
    "X_downsampled=data_downsampled[['VMail Plan','Day Mins','Night Mins','Intl Mins','CustServ Calls',\"Int'l Plan\",'Eve Charge', 'Intl Calls']]\n",
    "y_downsampled=data_downsampled[\"Churn\"]\n",
    "X_downsampled = pd.get_dummies(data=X_downsampled, drop_first=True)"
   ]
  },
  {
   "cell_type": "markdown",
   "metadata": {},
   "source": [
    "#### c. SMOTE Algoritması ile Sınıf Dengeleme"
   ]
  },
  {
   "cell_type": "code",
   "execution_count": 120,
   "metadata": {},
   "outputs": [],
   "source": [
    "X=df[['VMail Plan','Day Mins','Night Mins','Intl Mins','CustServ Calls',\"Int'l Plan\",'Eve Charge', 'Intl Calls']]\n",
    "y=df[\"Churn\"]\n",
    "X = pd.get_dummies(data=X, drop_first=True)\n",
    "\n",
    "smo = SMOTE(random_state=27, ratio=1.0)\n",
    "X_smote, y_smote = smo.fit_sample(X, y)"
   ]
  },
  {
   "cell_type": "markdown",
   "metadata": {},
   "source": [
    "#### d. ADASYN Algoritması ile Sınıf Dengeleme"
   ]
  },
  {
   "cell_type": "code",
   "execution_count": 121,
   "metadata": {},
   "outputs": [],
   "source": [
    "X=df[['VMail Plan','Day Mins','Night Mins','Intl Mins','CustServ Calls',\"Int'l Plan\",'Eve Charge', 'Intl Calls']]\n",
    "y=df[\"Churn\"]\n",
    "X = pd.get_dummies(data=X, drop_first=True) \n",
    "\n",
    "ad = ADASYN()\n",
    "X_adasyn, y_adasyn = ad.fit_sample(X, y)"
   ]
  },
  {
   "cell_type": "markdown",
   "metadata": {},
   "source": [
    "#### e. Sınıf Dengeleme Sonuçlarının Karşılaştırılması"
   ]
  },
  {
   "cell_type": "markdown",
   "metadata": {},
   "source": [
    "Üstteki farklı başlıklarda farklı yöntemlerle dengeleme yapabilmek adına veri kümelerimizi oluşturduk. Şimdi de fonksiyonumuz aracılığıyla bu dört farklı yöntemi parametre olarak gönderip sonuçları kıyaslayacağız."
   ]
  },
  {
   "cell_type": "code",
   "execution_count": 122,
   "metadata": {
    "scrolled": false
   },
   "outputs": [
    {
     "name": "stdout",
     "output_type": "stream",
     "text": [
      "Model icin veriler\n",
      "Modelin doğruluk değeri :  0.769298245614035\n",
      "Hata Matrisi (Eğitim verileri)\n",
      "------------------------------\n",
      "[[1753  527]\n",
      " [ 561 1719]]\n",
      "Hata Matrisi (Test verileri)\n",
      "------------------------------\n",
      "[[440 130]\n",
      " [133 437]]\n"
     ]
    },
    {
     "data": {
      "image/png": "[encoded data removed]",
      "text/plain": [
       "<Figure size 432x288 with 1 Axes>"
      ]
     },
     "metadata": {
      "needs_background": "light"
     },
     "output_type": "display_data"
    },
    {
     "name": "stdout",
     "output_type": "stream",
     "text": [
      "AUC Değeri :  0.8338411819021238\n",
      "\n",
      "********************************************\n",
      "\n",
      "Model icin veriler\n",
      "Modelin doğruluk değeri :  0.7680412371134021\n",
      "Hata Matrisi (Eğitim verileri)\n",
      "------------------------------\n",
      "[[285 101]\n",
      " [100 286]]\n",
      "Hata Matrisi (Test verileri)\n",
      "------------------------------\n",
      "[[68 29]\n",
      " [16 81]]\n"
     ]
    },
    {
     "data": {
      "image/png": "[encoded data removed]",
      "text/plain": [
       "<Figure size 432x288 with 1 Axes>"
      ]
     },
     "metadata": {
      "needs_background": "light"
     },
     "output_type": "display_data"
    },
    {
     "name": "stdout",
     "output_type": "stream",
     "text": [
      "AUC Değeri :  0.8282495483048146\n",
      "\n",
      "********************************************\n",
      "\n",
      "Model icin veriler\n",
      "Modelin doğruluk değeri :  0.7912280701754386\n",
      "Hata Matrisi (Eğitim verileri)\n",
      "------------------------------\n",
      "[[1775  505]\n",
      " [ 493 1787]]\n",
      "Hata Matrisi (Test verileri)\n",
      "------------------------------\n",
      "[[452 118]\n",
      " [120 450]]\n"
     ]
    },
    {
     "data": {
      "image/png": "[encoded data removed]",
      "text/plain": [
       "<Figure size 432x288 with 1 Axes>"
      ]
     },
     "metadata": {
      "needs_background": "light"
     },
     "output_type": "display_data"
    },
    {
     "name": "stdout",
     "output_type": "stream",
     "text": [
      "AUC Değeri :  0.8487349953831949\n",
      "\n",
      "********************************************\n",
      "\n",
      "Model icin veriler\n",
      "Modelin doğruluk değeri :  0.7836663770634231\n",
      "Hata Matrisi (Eğitim verileri)\n",
      "------------------------------\n",
      "[[1770  510]\n",
      " [ 561 1762]]\n",
      "Hata Matrisi (Test verileri)\n",
      "------------------------------\n",
      "[[450 120]\n",
      " [129 452]]\n"
     ]
    },
    {
     "data": {
      "image/png": "[encoded data removed]",
      "text/plain": [
       "<Figure size 432x288 with 1 Axes>"
      ]
     },
     "metadata": {
      "needs_background": "light"
     },
     "output_type": "display_data"
    },
    {
     "name": "stdout",
     "output_type": "stream",
     "text": [
      "AUC Değeri :  0.8364223812543408\n",
      "\n",
      "********************************************\n",
      "\n"
     ]
    }
   ],
   "source": [
    "X=[X_upsampled,X_downsampled,X_smote,X_adasyn]\n",
    "y=[y_upsampled,y_downsampled,y_smote,y_adasyn]\n",
    "for i in range(0,4): \n",
    "    print(\"Model icin veriler\")\n",
    "    model_result(X[i],y[i])\n",
    "    print(\"\\n********************************************\\n\")"
   ]
  },
  {
   "cell_type": "markdown",
   "metadata": {},
   "source": [
    "Upsampled,Downsampled,Smote model, Adasyn model ile ilk modelimiz olmak üzere 5 adet modeli,  \n",
    "1-Doğruluk Değeri  \n",
    "2-AUC Değeri açısından karşılaştırısak;\n",
    "  \n",
    "Doğruluk Değerleri:  \n",
    "**İlk Model=0.85 > Smote Model=0.79 > diğerleri=0.76**  \n",
    "AUC Değerleri:  \n",
    "**Smote Model=0.84 > Upsampled Model=0.83 > diğerleri=0.82** \n",
    "\n",
    "Test kümelerinin hata matrislerinin **True Pozitif**ve **True Negatif** toplamları açısından da bakalım. Doğru bir kıyaslama olabilmesi için gözlem sayıları aynı olan 3 metodu kıyasladık. Sıralama:  \n",
    "**Smote model > Adasyn Model > Upsampled Model**  \n",
    "\n",
    "Üç kıyaslama yönteminin ikisinde en önde bir diğerinde de ikinci sırada olan **Smote Model**'i en başarılı model seçebiliriz."
   ]
  },
  {
   "cell_type": "markdown",
   "metadata": {},
   "source": [
    "### MODEL OPTİMİZASYONU"
   ]
  },
  {
   "cell_type": "markdown",
   "metadata": {},
   "source": [
    "Şimdi de Smote modelimizin stabil olup olmadığını ve optimum başarı için gereken hiperparametre değerlerini öğrenelim.Modelimizi tekrar kuralım."
   ]
  },
  {
   "cell_type": "code",
   "execution_count": 123,
   "metadata": {},
   "outputs": [
    {
     "data": {
      "text/plain": [
       "LogisticRegression(C=1.0, class_weight=None, dual=False, fit_intercept=True,\n",
       "                   intercept_scaling=1, l1_ratio=None, max_iter=100,\n",
       "                   multi_class='warn', n_jobs=None, penalty='l2',\n",
       "                   random_state=None, solver='warn', tol=0.0001, verbose=0,\n",
       "                   warm_start=False)"
      ]
     },
     "execution_count": 123,
     "metadata": {},
     "output_type": "execute_result"
    }
   ],
   "source": [
    "X=df[['VMail Plan','Day Mins','Night Mins','Intl Mins','CustServ Calls',\"Int'l Plan\",'Eve Charge', 'Intl Calls']]\n",
    "y=df[\"Churn\"]\n",
    "X = pd.get_dummies(data=X, drop_first=True)\n",
    "\n",
    "smo = SMOTE(random_state=27, ratio=1.0)\n",
    "X_smote, y_smote = smo.fit_sample(X, y)\n",
    "\n",
    "X_eğitim, X_test, y_eğitim, y_test =  train_test_split(X, y, test_size=0.20, random_state=111, stratify = y)\n",
    "logreg_model = LogisticRegression()\n",
    "logreg_model.fit(X_eğitim, y_eğitim)"
   ]
  },
  {
   "cell_type": "markdown",
   "metadata": {},
   "source": [
    "10 kümeli çapraz doğrulama değerlerinin ortalamasını hem test hem eğitim kümesi için hesaplayalım."
   ]
  },
  {
   "cell_type": "code",
   "execution_count": 124,
   "metadata": {},
   "outputs": [
    {
     "name": "stdout",
     "output_type": "stream",
     "text": [
      "Test Doğruluk Ortalaması: 0.8607191316146541\n",
      "Eğitim Doğruluk Ortalaması: 0.8608388949902848\n"
     ]
    }
   ],
   "source": [
    "ortalama_accuracy_test= model_selection.cross_val_score(log_reg, X_test, y_test,cv = 10).mean()\n",
    "print(\"Test Doğruluk Ortalaması:\", ortalama_accuracy_test)\n",
    "\n",
    "ortalama_accuracy_test= model_selection.cross_val_score(log_reg, X_eğitim, y_eğitim,cv = 10).mean()\n",
    "print(\"Eğitim Doğruluk Ortalaması:\", ortalama_accuracy_test)"
   ]
  },
  {
   "cell_type": "markdown",
   "metadata": {},
   "source": [
    "Eğitim ve test arasında bir fark yok. Şimdi de C parametresinin farklı değerleri için kümelerimizin doğruluk değerlerine bakalım, en uygununu öğrenelim."
   ]
  },
  {
   "cell_type": "code",
   "execution_count": 125,
   "metadata": {},
   "outputs": [
    {
     "data": {
      "text/html": [
       "<div>\n",
       "<style scoped>\n",
       "    .dataframe tbody tr th:only-of-type {\n",
       "        vertical-align: middle;\n",
       "    }\n",
       "\n",
       "    .dataframe tbody tr th {\n",
       "        vertical-align: top;\n",
       "    }\n",
       "\n",
       "    .dataframe thead th {\n",
       "        text-align: right;\n",
       "    }\n",
       "</style>\n",
       "<table border=\"1\" class=\"dataframe\">\n",
       "  <thead>\n",
       "    <tr style=\"text-align: right;\">\n",
       "      <th></th>\n",
       "      <th>C Değeri</th>\n",
       "      <th>Eğitim Doğruluğu</th>\n",
       "      <th>Test Doğruluğu</th>\n",
       "    </tr>\n",
       "  </thead>\n",
       "  <tbody>\n",
       "    <tr>\n",
       "      <th>0</th>\n",
       "      <td>0.001</td>\n",
       "      <td>0.855</td>\n",
       "      <td>0.855</td>\n",
       "    </tr>\n",
       "    <tr>\n",
       "      <th>1</th>\n",
       "      <td>0.010</td>\n",
       "      <td>0.856</td>\n",
       "      <td>0.850</td>\n",
       "    </tr>\n",
       "    <tr>\n",
       "      <th>2</th>\n",
       "      <td>0.100</td>\n",
       "      <td>0.861</td>\n",
       "      <td>0.853</td>\n",
       "    </tr>\n",
       "    <tr>\n",
       "      <th>3</th>\n",
       "      <td>1.000</td>\n",
       "      <td>0.862</td>\n",
       "      <td>0.859</td>\n",
       "    </tr>\n",
       "    <tr>\n",
       "      <th>4</th>\n",
       "      <td>10.000</td>\n",
       "      <td>0.861</td>\n",
       "      <td>0.861</td>\n",
       "    </tr>\n",
       "    <tr>\n",
       "      <th>5</th>\n",
       "      <td>100.000</td>\n",
       "      <td>0.862</td>\n",
       "      <td>0.859</td>\n",
       "    </tr>\n",
       "    <tr>\n",
       "      <th>6</th>\n",
       "      <td>1000.000</td>\n",
       "      <td>0.863</td>\n",
       "      <td>0.859</td>\n",
       "    </tr>\n",
       "  </tbody>\n",
       "</table>\n",
       "</div>"
      ],
      "text/plain": [
       "   C Değeri  Eğitim Doğruluğu  Test Doğruluğu\n",
       "0     0.001             0.855           0.855\n",
       "1     0.010             0.856           0.850\n",
       "2     0.100             0.861           0.853\n",
       "3     1.000             0.862           0.859\n",
       "4    10.000             0.861           0.861\n",
       "5   100.000             0.862           0.859\n",
       "6  1000.000             0.863           0.859"
      ]
     },
     "execution_count": 125,
     "metadata": {},
     "output_type": "execute_result"
    }
   ],
   "source": [
    "C_değerleri = [0.001,0.01,0.1,1,10,100, 1000]\n",
    "dogruluk_df = pd.DataFrame(columns = ['C_Değeri','Doğruluk'])\n",
    "\n",
    "dogruluk_değerleri = pd.DataFrame(columns=['C Değeri', 'Eğitim Doğruluğu', 'Test Doğruluğu'])\n",
    "\n",
    "for c in C_değerleri:\n",
    "    lr = LogisticRegression(penalty = 'l2', C = c, random_state = 111)\n",
    "    lr.fit(X_eğitim,y_eğitim)\n",
    "    dogruluk_değerleri = dogruluk_değerleri.append({'C Değeri': c,\n",
    "                                                    'Eğitim Doğruluğu' : lr.score(X_eğitim, y_eğitim),\n",
    "                                                    'Test Doğruluğu': lr.score(X_test, y_test)\n",
    "                                                    }, ignore_index=True)\n",
    "    \n",
    "dogruluk_değerleri"
   ]
  },
  {
   "cell_type": "markdown",
   "metadata": {},
   "source": [
    "C=10 değeri için modelimizin başarısı optimum görünüyor. Modelimizi bir de C=10 ile tekrar kuruyoruz."
   ]
  },
  {
   "cell_type": "code",
   "execution_count": 126,
   "metadata": {},
   "outputs": [
    {
     "name": "stdout",
     "output_type": "stream",
     "text": [
      "Eğitim Doğruluğu=  0.8612153038259565\n",
      "Test Doğruluğu: 0.8605697151424287\n"
     ]
    }
   ],
   "source": [
    "lr = LogisticRegression(penalty = 'l2', C = 10, random_state = 111)\n",
    "lr.fit(X_eğitim,y_eğitim)\n",
    "\n",
    "print('Eğitim Doğruluğu= ',lr.score(X_eğitim, y_eğitim))\n",
    "print('Test Doğruluğu:',lr.score(X_test, y_test))"
   ]
  },
  {
   "cell_type": "markdown",
   "metadata": {},
   "source": [
    "### FARKLI MAKİNE ÖĞRENMESİ ALGORİTMALARI ile SINIFLANDIRMA"
   ]
  },
  {
   "cell_type": "markdown",
   "metadata": {},
   "source": [
    "Bu bölümde farklı makine öğrenmesi algoritmalarını kullanarak daha iyi bir çözüm elde edip edemeyeceğimize bakacağız. Sırayla algoritmalar için en uygun parametreleri bulup, çalıştırarak doğruluk değerlerini elde edeceğiz."
   ]
  },
  {
   "cell_type": "markdown",
   "metadata": {},
   "source": [
    "#### a. K-Nearest Neighbors (K-En Yakın Komşuluk) "
   ]
  },
  {
   "cell_type": "code",
   "execution_count": 127,
   "metadata": {},
   "outputs": [],
   "source": [
    "from sklearn.neighbors import KNeighborsClassifier\n",
    "from sklearn.model_selection import GridSearchCV"
   ]
  },
  {
   "cell_type": "markdown",
   "metadata": {},
   "source": [
    "GridsearchCV ile en verdiğimiz aralıklardaki en uygun parametreleri bulalım."
   ]
  },
  {
   "cell_type": "code",
   "execution_count": 128,
   "metadata": {},
   "outputs": [
    {
     "name": "stdout",
     "output_type": "stream",
     "text": [
      "En iyi tahmin ediciler: KNeighborsClassifier(algorithm='auto', leaf_size=30, metric='minkowski',\n",
      "                     metric_params=None, n_jobs=None, n_neighbors=9, p=2,\n",
      "                     weights='uniform')\n",
      "En iyi Score: 0.876987698769877\n"
     ]
    }
   ],
   "source": [
    "#nesneyi olstur.\n",
    "knn=KNeighborsClassifier()\n",
    "\n",
    "#parametre degerlerini ver.\n",
    "k_range = list(range(1,51))\n",
    "param_grid = dict(n_neighbors=k_range)\n",
    "\n",
    "grid = GridSearchCV(knn, param_grid, cv=10, scoring='accuracy', return_train_score=False)\n",
    "\n",
    "# fit grid\n",
    "model = grid.fit(X,y)\n",
    "\n",
    "# en iyi hali bul\n",
    "print('En iyi tahmin ediciler:', model.best_estimator_)\n",
    "print('En iyi Score:', model.best_score_)"
   ]
  },
  {
   "cell_type": "markdown",
   "metadata": {},
   "source": [
    "Modelimizi en iyi parametrelerle kuralım ve tahminlerimizi yapalım."
   ]
  },
  {
   "cell_type": "code",
   "execution_count": 129,
   "metadata": {},
   "outputs": [
    {
     "name": "stdout",
     "output_type": "stream",
     "text": [
      "Test Accuracy: 0.8770614692653673\n"
     ]
    }
   ],
   "source": [
    "#en son kıyas için doğruluk ve hassasiyet  ve auc değerleri icin liste olustur.\n",
    "test_accuracy=[]\n",
    "test_recall=[]\n",
    "test_auc=[]\n",
    "knn=KNeighborsClassifier(algorithm='auto', leaf_size=30, metric='minkowski',\n",
    "                     metric_params=None, n_jobs=None, n_neighbors=9, p=2,\n",
    "                     weights='uniform')\n",
    "model=knn.fit(X_eğitim, y_eğitim)\n",
    "\n",
    "# tahminleri yapıyoruz\n",
    "y_preds = model.predict(X_test)\n",
    "\n",
    "# dogruluk ve hassaiyet ve auc sonuclarını listeye ekliyoruz.\n",
    "test_accuracy.append( accuracy_score(y_test, y_preds))\n",
    "test_recall.append(recall_score(y_test, y_preds))\n",
    "tahmin_test_ihtimal = model.predict_proba(X_test)[:,1]\n",
    "test_auc.append(roc_auc_score(y_test, tahmin_test_ihtimal))\n",
    "#dogruluk degerini yazdıralım.\n",
    "print('Test Accuracy:', accuracy_score(y_test, y_preds))"
   ]
  },
  {
   "cell_type": "markdown",
   "metadata": {},
   "source": [
    "#### b.Decision Tree(Karar Ağaçları) "
   ]
  },
  {
   "cell_type": "code",
   "execution_count": 130,
   "metadata": {},
   "outputs": [],
   "source": [
    "from sklearn.tree import DecisionTreeClassifier "
   ]
  },
  {
   "cell_type": "code",
   "execution_count": 131,
   "metadata": {},
   "outputs": [],
   "source": [
    "d_tree=DecisionTreeClassifier()\n",
    "\n",
    "param_grid={'min_samples_split' : range(10,1000,50),'max_depth': range(1,20,2),'criterion':['entropy','gini']}\n",
    "\n",
    "grid=GridSearchCV(d_tree,param_grid)\n",
    "\n",
    "model = grid.fit(X,y)"
   ]
  },
  {
   "cell_type": "code",
   "execution_count": 132,
   "metadata": {},
   "outputs": [
    {
     "name": "stdout",
     "output_type": "stream",
     "text": [
      "En iyi tahmin ediciler: DecisionTreeClassifier(class_weight=None, criterion='entropy', max_depth=7,\n",
      "                       max_features=None, max_leaf_nodes=None,\n",
      "                       min_impurity_decrease=0.0, min_impurity_split=None,\n",
      "                       min_samples_leaf=1, min_samples_split=10,\n",
      "                       min_weight_fraction_leaf=0.0, presort=False,\n",
      "                       random_state=None, splitter='best')\n",
      "En iyi Score: 0.9396939693969397\n"
     ]
    }
   ],
   "source": [
    "# en iyi halini bul\n",
    "print('En iyi tahmin ediciler:', model.best_estimator_)\n",
    "print('En iyi Score:', model.best_score_)"
   ]
  },
  {
   "cell_type": "code",
   "execution_count": 133,
   "metadata": {},
   "outputs": [
    {
     "name": "stdout",
     "output_type": "stream",
     "text": [
      "Test Accuracy: 0.9505247376311844\n"
     ]
    }
   ],
   "source": [
    "dtc=DecisionTreeClassifier(class_weight=None, criterion='entropy', max_depth=7,\n",
    "                       max_features=None, max_leaf_nodes=None,\n",
    "                       min_impurity_decrease=0.0, min_impurity_split=None,\n",
    "                       min_samples_leaf=1, min_samples_split=10,\n",
    "                       min_weight_fraction_leaf=0.0, presort=False,\n",
    "                       random_state=None, splitter='best')\n",
    "model=dtc.fit(X_eğitim, y_eğitim)\n",
    "\n",
    "# tahminleri yapalım.\n",
    "y_preds = model.predict(X_test)\n",
    "\n",
    "# sonucları ekle\n",
    "test_accuracy.append( accuracy_score(y_test, y_preds))\n",
    "test_recall.append(recall_score(y_test, y_preds))\n",
    "tahmin_test_ihtimal = model.predict_proba(X_test)[:,1]\n",
    "test_auc.append(roc_auc_score(y_test, tahmin_test_ihtimal))\n",
    "#dogruluk yazdır.\n",
    "print('Test Accuracy:', accuracy_score(y_test, y_preds))"
   ]
  },
  {
   "cell_type": "code",
   "execution_count": 134,
   "metadata": {},
   "outputs": [
    {
     "data": {
      "image/png": "[encoded data removed]",
      "text/plain": [
       "<Figure size 432x288 with 1 Axes>"
      ]
     },
     "metadata": {
      "needs_background": "light"
     },
     "output_type": "display_data"
    }
   ],
   "source": [
    "önem_dereceleri = pd.Series(data=model.feature_importances_,\n",
    "                        index= X_eğitim.columns)\n",
    "\n",
    "önem_dereceleri_sıralı = önem_dereceleri.sort_values()\n",
    "\n",
    "önem_dereceleri_sıralı.plot(kind='barh', color='darkblue')\n",
    "plt.title('Değişkenlerin Önem Dereceleri')\n",
    "plt.show()"
   ]
  },
  {
   "cell_type": "markdown",
   "metadata": {},
   "source": [
    "#### c. Random Forest (Rastgele Orman) "
   ]
  },
  {
   "cell_type": "code",
   "execution_count": 135,
   "metadata": {},
   "outputs": [],
   "source": [
    "from sklearn.ensemble import RandomForestClassifier"
   ]
  },
  {
   "cell_type": "code",
   "execution_count": 136,
   "metadata": {},
   "outputs": [],
   "source": [
    "rfc = RandomForestClassifier()\n",
    "\n",
    "param_grid = { \n",
    "    'n_estimators': [10,20,30,40,50],\n",
    "    'max_features': ['auto', 'sqrt', 'log2']\n",
    "}\n",
    "\n",
    "grid = GridSearchCV(estimator=rfc, param_grid=param_grid, cv= 10)\n",
    "model = grid.fit(X, y)"
   ]
  },
  {
   "cell_type": "code",
   "execution_count": 137,
   "metadata": {},
   "outputs": [
    {
     "name": "stdout",
     "output_type": "stream",
     "text": [
      "En iyi tahmin ediciler: RandomForestClassifier(bootstrap=True, class_weight=None, criterion='gini',\n",
      "                       max_depth=None, max_features='log2', max_leaf_nodes=None,\n",
      "                       min_impurity_decrease=0.0, min_impurity_split=None,\n",
      "                       min_samples_leaf=1, min_samples_split=2,\n",
      "                       min_weight_fraction_leaf=0.0, n_estimators=50,\n",
      "                       n_jobs=None, oob_score=False, random_state=None,\n",
      "                       verbose=0, warm_start=False)\n",
      "En iyi Score: 0.9567956795679567\n"
     ]
    }
   ],
   "source": [
    "# en iyi halini bul\n",
    "print('En iyi tahmin ediciler:',model.best_estimator_)\n",
    "print('En iyi Score:',model.best_score_)"
   ]
  },
  {
   "cell_type": "code",
   "execution_count": 138,
   "metadata": {},
   "outputs": [
    {
     "name": "stdout",
     "output_type": "stream",
     "text": [
      "Test Accuracy: 0.9565217391304348\n"
     ]
    }
   ],
   "source": [
    "rf=RandomForestClassifier(bootstrap=True, class_weight=None, criterion='gini',\n",
    "                       max_depth=None, max_features='log2', max_leaf_nodes=None,\n",
    "                       min_impurity_decrease=0.0, min_impurity_split=None,\n",
    "                       min_samples_leaf=1, min_samples_split=2,\n",
    "                       min_weight_fraction_leaf=0.0, n_estimators=10,\n",
    "                       n_jobs=None, oob_score=False, random_state=None,\n",
    "                       verbose=0, warm_start=False)\n",
    "model=rf.fit(X_eğitim, y_eğitim)\n",
    "\n",
    "#tahminleri yapalım\n",
    "y_preds = model.predict(X_test)\n",
    "\n",
    "# sonucları ekle\n",
    "test_accuracy.append( accuracy_score(y_test, y_preds))\n",
    "test_recall.append(recall_score(y_test, y_preds))\n",
    "tahmin_test_ihtimal = model.predict_proba(X_test)[:,1]\n",
    "test_auc.append(roc_auc_score(y_test, tahmin_test_ihtimal))\n",
    "#dogruluk yazdır.\n",
    "print('Test Accuracy:', accuracy_score(y_test, y_preds))"
   ]
  },
  {
   "cell_type": "code",
   "execution_count": 139,
   "metadata": {},
   "outputs": [
    {
     "data": {
      "image/png": "[encoded data removed]",
      "text/plain": [
       "<Figure size 432x288 with 1 Axes>"
      ]
     },
     "metadata": {
      "needs_background": "light"
     },
     "output_type": "display_data"
    }
   ],
   "source": [
    "önem_dereceleri = pd.Series(data=model.feature_importances_,\n",
    "                        index= X_eğitim.columns)\n",
    "\n",
    "önem_dereceleri_sıralı = önem_dereceleri.sort_values()\n",
    "\n",
    "önem_dereceleri_sıralı.plot(kind='barh', color='darkblue')\n",
    "plt.title('Değişkenlerin Önem Dereceleri')\n",
    "plt.show()"
   ]
  },
  {
   "cell_type": "markdown",
   "metadata": {},
   "source": [
    "#### d. AdaBoost Karar ağaçları"
   ]
  },
  {
   "cell_type": "code",
   "execution_count": 140,
   "metadata": {},
   "outputs": [],
   "source": [
    "from sklearn.ensemble import AdaBoostClassifier"
   ]
  },
  {
   "cell_type": "code",
   "execution_count": 141,
   "metadata": {},
   "outputs": [
    {
     "name": "stdout",
     "output_type": "stream",
     "text": [
      "CV Score Ortalaması: 0.9249950549351749\n"
     ]
    }
   ],
   "source": [
    "ada_dt = AdaBoostClassifier(base_estimator=DecisionTreeClassifier(), n_estimators=50)\n",
    "\n",
    "scores = cross_val_score(ada_dt, X, y, cv=10)\n",
    "\n",
    "print('CV Score Ortalaması:',scores.mean())"
   ]
  },
  {
   "cell_type": "code",
   "execution_count": 142,
   "metadata": {},
   "outputs": [
    {
     "name": "stdout",
     "output_type": "stream",
     "text": [
      "Test Accuracy: 0.9145427286356822\n"
     ]
    }
   ],
   "source": [
    "model = ada_dt.fit(X_eğitim, y_eğitim)\n",
    "\n",
    "# tahminleri yapalım\n",
    "y_preds = model.predict(X_test)\n",
    "\n",
    "# sonucları ekle\n",
    "test_accuracy.append( accuracy_score(y_test, y_preds))\n",
    "test_recall.append(recall_score(y_test, y_preds))\n",
    "tahmin_test_ihtimal = model.predict_proba(X_test)[:,1]\n",
    "test_auc.append(roc_auc_score(y_test, tahmin_test_ihtimal))\n",
    "#dogruluk yazdır.\n",
    "print('Test Accuracy:', accuracy_score(y_test, y_preds))"
   ]
  },
  {
   "cell_type": "markdown",
   "metadata": {},
   "source": [
    "#### e. Gradient Boosting "
   ]
  },
  {
   "cell_type": "code",
   "execution_count": 143,
   "metadata": {},
   "outputs": [],
   "source": [
    "from sklearn.ensemble import GradientBoostingClassifier"
   ]
  },
  {
   "cell_type": "code",
   "execution_count": 144,
   "metadata": {},
   "outputs": [
    {
     "name": "stdout",
     "output_type": "stream",
     "text": [
      "CV Score Ortalaması: 0.9273938609267951\n"
     ]
    }
   ],
   "source": [
    "grad_boost = GradientBoostingClassifier(n_estimators=100, learning_rate=1)\n",
    "\n",
    "scores = cross_val_score(grad_boost, X, y, cv=10)\n",
    "\n",
    "print('CV Score Ortalaması:',scores.mean())"
   ]
  },
  {
   "cell_type": "code",
   "execution_count": 145,
   "metadata": {},
   "outputs": [
    {
     "name": "stdout",
     "output_type": "stream",
     "text": [
      "Test Accuracy: 0.9295352323838081\n"
     ]
    }
   ],
   "source": [
    "model = grad_boost.fit(X_eğitim, y_eğitim)\n",
    "\n",
    "# tahminleri yapalım\n",
    "y_preds = model.predict(X_test)\n",
    "\n",
    "# sonucları ekle\n",
    "test_accuracy.append( accuracy_score(y_test, y_preds))\n",
    "test_recall.append(recall_score(y_test, y_preds))\n",
    "tahmin_test_ihtimal = model.predict_proba(X_test)[:,1]\n",
    "test_auc.append(roc_auc_score(y_test, tahmin_test_ihtimal))\n",
    "#dogruluk yazdır.\n",
    "print('Test Accuracy:', accuracy_score(y_test, y_preds))"
   ]
  },
  {
   "cell_type": "markdown",
   "metadata": {},
   "source": [
    "#### f. Light GBM"
   ]
  },
  {
   "cell_type": "code",
   "execution_count": 146,
   "metadata": {},
   "outputs": [],
   "source": [
    "import lightgbm as lgb\n",
    "from lightgbm import LGBMClassifier"
   ]
  },
  {
   "cell_type": "code",
   "execution_count": 147,
   "metadata": {},
   "outputs": [
    {
     "name": "stdout",
     "output_type": "stream",
     "text": [
      "CV Score Ortalaması: 0.957700814587042\n"
     ]
    }
   ],
   "source": [
    "lgb = LGBMClassifier(max_depth=8,\n",
    "                        num_leaves=40,\n",
    "                        learning_rate=0.4)\n",
    "\n",
    "scores= cross_val_score(lgb, X,y,cv=10)\n",
    "print('CV Score Ortalaması:', scores.mean())\n",
    "\n"
   ]
  },
  {
   "cell_type": "code",
   "execution_count": 148,
   "metadata": {},
   "outputs": [
    {
     "name": "stdout",
     "output_type": "stream",
     "text": [
      "Test Accuracy: 0.9565217391304348\n"
     ]
    }
   ],
   "source": [
    "model = lgb.fit(X_eğitim, y_eğitim)\n",
    "\n",
    "# tahminleri yapalım\n",
    "y_preds = model.predict(X_test)\n",
    "\n",
    "# sonucları ekle\n",
    "test_accuracy.append( accuracy_score(y_test, y_preds))\n",
    "test_recall.append(recall_score(y_test, y_preds))\n",
    "tahmin_test_ihtimal = model.predict_proba(X_test)[:,1]\n",
    "test_auc.append(roc_auc_score(y_test, tahmin_test_ihtimal))\n",
    "#dogruluk yazdır.\n",
    "print('Test Accuracy:', accuracy_score(y_test, y_preds))"
   ]
  },
  {
   "cell_type": "code",
   "execution_count": 149,
   "metadata": {},
   "outputs": [
    {
     "data": {
      "image/png": "[encoded data removed]",
      "text/plain": [
       "<Figure size 432x288 with 1 Axes>"
      ]
     },
     "metadata": {
      "needs_background": "light"
     },
     "output_type": "display_data"
    }
   ],
   "source": [
    "önem_dereceleri = pd.Series(data=model.feature_importances_,\n",
    "                        index= X_eğitim.columns)\n",
    "\n",
    "önem_dereceleri_sıralı = önem_dereceleri.sort_values()\n",
    "\n",
    "önem_dereceleri_sıralı.plot(kind='barh', color='darkblue')\n",
    "plt.title('Değişkenlerin Önem Dereceleri')\n",
    "plt.show()"
   ]
  },
  {
   "cell_type": "markdown",
   "metadata": {},
   "source": [
    "#### g. XGBoost"
   ]
  },
  {
   "cell_type": "code",
   "execution_count": 150,
   "metadata": {},
   "outputs": [],
   "source": [
    "import xgboost as xgb\n",
    "from xgboost import XGBClassifier"
   ]
  },
  {
   "cell_type": "code",
   "execution_count": 151,
   "metadata": {},
   "outputs": [
    {
     "name": "stdout",
     "output_type": "stream",
     "text": [
      "CV Score Ortalaması: 0.9450998903094711\n"
     ]
    }
   ],
   "source": [
    "xgb = XGBClassifier(silent=False, \n",
    "                      scale_pos_weight=1,\n",
    "                      learning_rate=0.1,  \n",
    "                      colsample_bytree = 0.4,\n",
    "                      subsample = 0.8,\n",
    "                      objective='binary:logistic', \n",
    "                      n_estimators=1000, \n",
    "                      reg_alpha = 0.3,\n",
    "                      max_depth=9, \n",
    "                      gamma=0.1)\n",
    "\n",
    "\n",
    "scores= cross_val_score(xgb, X,y,cv=10)\n",
    "print('CV Score Ortalaması:', scores.mean())\n",
    "\n"
   ]
  },
  {
   "cell_type": "code",
   "execution_count": 152,
   "metadata": {},
   "outputs": [
    {
     "name": "stdout",
     "output_type": "stream",
     "text": [
      "Test Accuracy: 0.9460269865067467\n"
     ]
    }
   ],
   "source": [
    "model = xgb.fit(X_eğitim, y_eğitim)\n",
    "\n",
    "# tahminleri yapalım\n",
    "y_preds = model.predict(X_test)\n",
    "\n",
    "# sonucları ekle\n",
    "test_accuracy.append( accuracy_score(y_test, y_preds))\n",
    "test_recall.append(recall_score(y_test, y_preds))\n",
    "tahmin_test_ihtimal = model.predict_proba(X_test)[:,1]\n",
    "test_auc.append(roc_auc_score(y_test, tahmin_test_ihtimal))\n",
    "#dogruluk yazdır.\n",
    "print('Test Accuracy:', accuracy_score(y_test, y_preds))"
   ]
  },
  {
   "cell_type": "code",
   "execution_count": 153,
   "metadata": {},
   "outputs": [
    {
     "data": {
      "image/png": "[encoded data removed]",
      "text/plain": [
       "<Figure size 432x288 with 1 Axes>"
      ]
     },
     "metadata": {
      "needs_background": "light"
     },
     "output_type": "display_data"
    }
   ],
   "source": [
    "önem_dereceleri = pd.Series(data=model.feature_importances_,\n",
    "                        index= X_eğitim.columns)\n",
    "\n",
    "önem_dereceleri_sıralı = önem_dereceleri.sort_values()\n",
    "\n",
    "önem_dereceleri_sıralı.plot(kind='barh', color='darkblue')\n",
    "plt.title('Değişkenlerin Önem Dereceleri')\n",
    "plt.show()"
   ]
  },
  {
   "cell_type": "markdown",
   "metadata": {},
   "source": [
    "#### h. Karşılaştırma"
   ]
  },
  {
   "cell_type": "markdown",
   "metadata": {},
   "source": [
    "Bu bölümde 7 farklı makine öğrenmesi yöntemiyle sınflandırma yaptık. Şimdi hepsini Accuracy(Doğruluk) ve AUC(Eğri Altında Kalan Alan) açısından karşılastıralım."
   ]
  },
  {
   "cell_type": "code",
   "execution_count": 154,
   "metadata": {},
   "outputs": [],
   "source": [
    "Models=['K-Nearest Neighbor','Decision Tree','Random Forest','Adaboost','Gradient Boost','Light GBM','XGBoost']\n",
    "                                   "
   ]
  },
  {
   "cell_type": "code",
   "execution_count": 164,
   "metadata": {},
   "outputs": [
    {
     "name": "stdout",
     "output_type": "stream",
     "text": [
      "K-Nearest Neighbor  için dogruluk degeri= 0.8770614692653673 AUC değeri: 0.6736389943931995\n",
      "Decision Tree  için dogruluk degeri= 0.9505247376311844 AUC değeri: 0.8778260083197684\n",
      "Random Forest  için dogruluk degeri= 0.9565217391304348 AUC değeri: 0.9350515463917526\n",
      "Adaboost  için dogruluk degeri= 0.9145427286356822 AUC değeri: 0.8430638451799602\n",
      "Gradient Boost  için dogruluk degeri= 0.9295352323838081 AUC değeri: 0.8666666666666667\n",
      "Light GBM  için dogruluk degeri= 0.9565217391304348 AUC değeri: 0.9276722734671732\n",
      "XGBoost  için dogruluk degeri= 0.9460269865067467 AUC değeri: 0.9073250135648399\n"
     ]
    }
   ],
   "source": [
    "for i in range(0,7):\n",
    "    print(Models[i],' için dogruluk degeri=',test_accuracy[i],'AUC değeri:',test_auc[i])"
   ]
  },
  {
   "cell_type": "markdown",
   "metadata": {},
   "source": [
    "Yukardaki 7 farklı makine öğrenmesi yöntemini karşılaştırdığımızda en yüksek doğruluk ve hassasiyet değerlerinin **Light GBM**  ile elde edildiğini görüyoruz. Daha sonra bu değere çok yakın sonuçları **Random Forest** algoritmasında görüyoruz. Başarı ölçütümüz AUC olduğunda ise yine bu iki algoritma bu sefer **Random Forest** önde olmak üzere en iyi ilk ikide yer alıyor. "
   ]
  },
  {
   "cell_type": "markdown",
   "metadata": {},
   "source": [
    "### SONUÇ"
   ]
  },
  {
   "cell_type": "markdown",
   "metadata": {},
   "source": [
    "Oluşturduğumuz 5 farklı logistic regresyon modelinden, farklı başarı ölçütlerine göre en başarılısı Smote Algoritması ile kümemizde eleman sayısı dengelemesi yapan modelimiz oldu. Bu modelimiz %86 doğruluk oranında çalışıyor. Yani elimizdeki model ile müşterilerimizin 'Churn' durumlarını **%86** isabetlilikle tahmin edebiliyoruz demektir. Ayrılmayı düşündüğünü tespit ettiğimiz müşteriler için buna nelerin sebep olduğunu anlayabilmek bu durumu önleyebilmek için gerekli. Modelimiz aracılığıyla bu kararda nelerin önemli olduğunu belli ölçüde anlayabilmiş olduk.  \n",
    "Daha sonra farklı makine öğrenmesi yöntemlerini denedik ve doğruluk başarımızı **%95** seviyesine çıkardık."
   ]
  },
  {
   "cell_type": "code",
   "execution_count": null,
   "metadata": {},
   "outputs": [],
   "source": []
  }
 ],
 "metadata": {
  "kernelspec": {
   "display_name": "Python 3",
   "language": "python",
   "name": "python3"
  },
  "language_info": {
   "codemirror_mode": {
    "name": "ipython",
    "version": 3
   },
   "file_extension": ".py",
   "mimetype": "text/x-python",
   "name": "python",
   "nbconvert_exporter": "python",
   "pygments_lexer": "ipython3",
   "version": "3.7.2"
  }
 },
 "nbformat": 4,
 "nbformat_minor": 2
}
